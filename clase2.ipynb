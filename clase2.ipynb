{
  "nbformat": 4,
  "nbformat_minor": 0,
  "metadata": {
    "colab": {
      "provenance": []
    },
    "kernelspec": {
      "name": "python3",
      "display_name": "Python 3"
    },
    "language_info": {
      "name": "python"
    }
  },
  "cells": [
    {
      "cell_type": "code",
      "source": [],
      "metadata": {
        "id": "-umP9DmqctUY"
      },
      "execution_count": null,
      "outputs": []
    },
    {
      "cell_type": "markdown",
      "source": [
        "# Conjuntos y listas\n",
        "- Conjuntos finitos:\n",
        "$$\\{o_1,o_2,\\dots,o_n\\}$$\n",
        "- Listas finitas:\n",
        "$$[l_1,l_2,\\dots,l_n]$$\n"
      ],
      "metadata": {
        "id": "SspLO_OTcwJ3"
      }
    },
    {
      "cell_type": "markdown",
      "source": [
        "En Python existe la función `range(a,b)` donde $a,b\\geq 0$"
      ],
      "metadata": {
        "id": "EXPAr6HveiT7"
      }
    },
    {
      "cell_type": "code",
      "source": [
        "range (10)"
      ],
      "metadata": {
        "colab": {
          "base_uri": "https://localhost:8080/"
        },
        "id": "ojsQCNOPgIh4",
        "outputId": "0da41a42-7f89-42ab-96e8-5d4f2d2b83bc"
      },
      "execution_count": 4,
      "outputs": [
        {
          "output_type": "execute_result",
          "data": {
            "text/plain": [
              "range(0, 10)"
            ]
          },
          "metadata": {},
          "execution_count": 4
        }
      ]
    },
    {
      "cell_type": "markdown",
      "source": [
        "¿Cómo puedo ver a los elementos de este generador de índices?"
      ],
      "metadata": {
        "id": "mgy01cbegLiN"
      }
    },
    {
      "cell_type": "code",
      "source": [
        "for i in range (10) :\n",
        "  print(i)"
      ],
      "metadata": {
        "colab": {
          "base_uri": "https://localhost:8080/"
        },
        "id": "J_7luJrhgRMp",
        "outputId": "5baa61c7-2ae4-499f-d905-f05c3c72e37b"
      },
      "execution_count": 5,
      "outputs": [
        {
          "output_type": "stream",
          "name": "stdout",
          "text": [
            "0\n",
            "1\n",
            "2\n",
            "3\n",
            "4\n",
            "5\n",
            "6\n",
            "7\n",
            "8\n",
            "9\n"
          ]
        }
      ]
    },
    {
      "cell_type": "code",
      "source": [
        "# Vamos a construir dos objetos\n",
        "\n",
        "Pares = {i for i in range (21) if i%2==0}\n",
        "print(f\"Pares: {Pares}\")\n",
        "\n",
        "Impares = {i for i in range (21) if i%2!=0}\n",
        "print(f\"Impares: {Impares}\")"
      ],
      "metadata": {
        "colab": {
          "base_uri": "https://localhost:8080/"
        },
        "id": "2GOsqq2EhMwy",
        "outputId": "ef91ab84-463e-41b7-9e14-5da16ea57645"
      },
      "execution_count": 12,
      "outputs": [
        {
          "output_type": "stream",
          "name": "stdout",
          "text": [
            "Pares: {0, 2, 4, 6, 8, 10, 12, 14, 16, 18, 20}\n",
            "Impares: {1, 3, 5, 7, 9, 11, 13, 15, 17, 19}\n"
          ]
        }
      ]
    },
    {
      "cell_type": "code",
      "source": [
        "c = {17,7,27,19,77,56,8,12,10,13,20,16}\n",
        "c, type(c)\n"
      ],
      "metadata": {
        "colab": {
          "base_uri": "https://localhost:8080/"
        },
        "id": "ktIPMMvdi7W8",
        "outputId": "a863dba5-952e-4956-f5cd-0acf56cd715d"
      },
      "execution_count": 13,
      "outputs": [
        {
          "output_type": "execute_result",
          "data": {
            "text/plain": [
              "({7, 8, 10, 12, 13, 16, 17, 19, 20, 27, 56, 77}, set)"
            ]
          },
          "metadata": {},
          "execution_count": 13
        }
      ]
    },
    {
      "cell_type": "code",
      "source": [],
      "metadata": {
        "id": "rCwSBr19kD-f"
      },
      "execution_count": null,
      "outputs": []
    },
    {
      "cell_type": "markdown",
      "source": [
        "**Los objetos en Python tienen atributos**"
      ],
      "metadata": {
        "id": "jBLYeftQkDTY"
      }
    },
    {
      "cell_type": "code",
      "source": [
        "Pares.intersection(Impares)"
      ],
      "metadata": {
        "colab": {
          "base_uri": "https://localhost:8080/"
        },
        "id": "Su0_PEPBkJhS",
        "outputId": "1bacfa7c-0dfa-451e-c6c9-1b424d0d4c4b"
      },
      "execution_count": 14,
      "outputs": [
        {
          "output_type": "execute_result",
          "data": {
            "text/plain": [
              "set()"
            ]
          },
          "metadata": {},
          "execution_count": 14
        }
      ]
    },
    {
      "cell_type": "code",
      "source": [
        "Pares.union(Impares)"
      ],
      "metadata": {
        "colab": {
          "base_uri": "https://localhost:8080/"
        },
        "id": "Tz_EJaB9kkLQ",
        "outputId": "1ffdf287-b495-4162-ab38-f19a5279462a"
      },
      "execution_count": 15,
      "outputs": [
        {
          "output_type": "execute_result",
          "data": {
            "text/plain": [
              "{0, 1, 2, 3, 4, 5, 6, 7, 8, 9, 10, 11, 12, 13, 14, 15, 16, 17, 18, 19, 20}"
            ]
          },
          "metadata": {},
          "execution_count": 15
        }
      ]
    },
    {
      "cell_type": "code",
      "source": [
        "Impares.difference(c)"
      ],
      "metadata": {
        "colab": {
          "base_uri": "https://localhost:8080/"
        },
        "id": "Ml7eHnR6kvyI",
        "outputId": "f88118f4-0b73-4bda-b017-7a590284c798"
      },
      "execution_count": 16,
      "outputs": [
        {
          "output_type": "execute_result",
          "data": {
            "text/plain": [
              "{1, 3, 5, 9, 11, 15}"
            ]
          },
          "metadata": {},
          "execution_count": 16
        }
      ]
    },
    {
      "cell_type": "code",
      "source": [
        "Pares.difference(c)"
      ],
      "metadata": {
        "colab": {
          "base_uri": "https://localhost:8080/"
        },
        "id": "cvdNfTXMlFGJ",
        "outputId": "92209b15-db83-4aef-f3b6-cf1986424b51"
      },
      "execution_count": 17,
      "outputs": [
        {
          "output_type": "execute_result",
          "data": {
            "text/plain": [
              "{0, 2, 4, 6, 14, 18}"
            ]
          },
          "metadata": {},
          "execution_count": 17
        }
      ]
    },
    {
      "cell_type": "markdown",
      "source": [
        "# Listas"
      ],
      "metadata": {
        "id": "q8SP8T5Rl-w2"
      }
    },
    {
      "cell_type": "code",
      "source": [
        "Lista_Pares = list(Pares)\n",
        "Lista_Pares"
      ],
      "metadata": {
        "colab": {
          "base_uri": "https://localhost:8080/"
        },
        "id": "eNLZVaY-mBw_",
        "outputId": "9762b590-1036-4543-cf56-ba37a2346f86"
      },
      "execution_count": 20,
      "outputs": [
        {
          "output_type": "execute_result",
          "data": {
            "text/plain": [
              "[0, 2, 4, 6, 8, 10, 12, 14, 16, 18, 20]"
            ]
          },
          "metadata": {},
          "execution_count": 20
        }
      ]
    }
  ]
}