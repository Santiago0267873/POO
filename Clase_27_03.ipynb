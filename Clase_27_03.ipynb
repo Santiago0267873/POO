{
  "cells": [
    {
      "cell_type": "markdown",
      "id": "fbd17aa5-c033-4f54-a9b8-e880ed6433fa",
      "metadata": {
        "id": "fbd17aa5-c033-4f54-a9b8-e880ed6433fa"
      },
      "source": [
        "# Python Tkinter\n",
        "\n",
        "Python Tkinter is a standard GUI (Graphical User Interface) library for Python which provides a fast and easy way to create desktop applications. It is used to create interactive interfaces.\n",
        "\n",
        "## Create First Tkinter GUI Application\n",
        "1. Import the Tkinter module: It’s necessary for creating GUI components.\n",
        "2. Create the main window: This is done using the Tk() class.\n",
        "3. Set window properties: Such as the title and size.\n",
        "4. Ad widgets: You can add buttons, labels, entry fields, etc.\n",
        "5. Pack widgets: Use geometry managers like pack(), grid(), or place() to arrange the widgets in the window.\n",
        "6. Apply event triggers: Attach event triggers to widgets to define how they respond to user interactions.\n",
        "\n",
        "To create a main window in Tkinter, we use the Tk() class. The syntax for creating a main window is as follows:\n",
        "\n"
      ]
    },
    {
      "cell_type": "code",
      "execution_count": null,
      "id": "db9d8b3b-1839-430f-91a4-f7dfba5c6a1f",
      "metadata": {
        "scrolled": true,
        "id": "db9d8b3b-1839-430f-91a4-f7dfba5c6a1f",
        "outputId": "67ff4db9-a9c5-49a0-d4f6-db0b0caef8a4"
      },
      "outputs": [
        {
          "ename": "SyntaxError",
          "evalue": "invalid character '’' (U+2019) (1687265008.py, line 1)",
          "output_type": "error",
          "traceback": [
            "\u001b[0;36m  Cell \u001b[0;32mIn[4], line 1\u001b[0;36m\u001b[0m\n\u001b[0;31m    root = tk.Tk(screenName=None, baseName=None, className=’Tk’, useTk=1)\u001b[0m\n\u001b[0m                                                           ^\u001b[0m\n\u001b[0;31mSyntaxError\u001b[0m\u001b[0;31m:\u001b[0m invalid character '’' (U+2019)\n"
          ]
        }
      ],
      "source": [
        "root = tk.Tk(screenName=None, baseName=None, className=’Tk’, useTk=1)\n",
        "#screenName: This parameter is used to specify the display name.\n",
        "#baseName: This parameter can be used to set the base name of the application.\n",
        "#className: We can change the name of the window by setting this parameter to the desired name.\n",
        "#useTk: This parameter indicates whether to use Tk or not."
      ]
    },
    {
      "cell_type": "markdown",
      "id": "73cae7be-b124-44a0-ab35-d94157ae4060",
      "metadata": {
        "id": "73cae7be-b124-44a0-ab35-d94157ae4060"
      },
      "source": [
        "## mainloop()\n",
        "The mainloop() method is used to run the application once it is ready. It creates an infinite loop that keeps the application running, waits for events (like button clicks), and processes these events as long as the window remains open."
      ]
    },
    {
      "cell_type": "code",
      "execution_count": null,
      "id": "e0ae81c6-f118-40d6-a2f4-3e2cf4923ccc",
      "metadata": {
        "id": "e0ae81c6-f118-40d6-a2f4-3e2cf4923ccc"
      },
      "outputs": [],
      "source": [
        "import tkinter\n",
        "m = tkinter.Tk()\n",
        "'''\n",
        "widgets are added here\n",
        "'''\n",
        "m.mainloop()\n"
      ]
    },
    {
      "cell_type": "markdown",
      "id": "c0a15582-461d-44e9-89e8-60fff17b4854",
      "metadata": {
        "id": "c0a15582-461d-44e9-89e8-60fff17b4854"
      },
      "source": [
        "## Tkinter Widget\n",
        "There are a number of tkinter widgets which we can put in our tkinter application.Some of the major widgets are:\n",
        "Label, Button, Entry, CheckButton, RadioButton, Listbox, Scrollbar, Menu, Combobox, Scale, TopLevel, Message, MenuButton, Progressbar, SpinBox, Text, Canvas, PannedWindow.\n"
      ]
    },
    {
      "cell_type": "markdown",
      "id": "41b2272d-a080-4ca9-ad8c-8e3f5d46a87d",
      "metadata": {
        "id": "41b2272d-a080-4ca9-ad8c-8e3f5d46a87d"
      },
      "source": [
        "### Label\n",
        "It refers to the display box where we display text or image."
      ]
    },
    {
      "cell_type": "code",
      "execution_count": null,
      "id": "e3a896ef-2a2a-45ff-a076-1540a6e2a365",
      "metadata": {
        "collapsed": true,
        "jupyter": {
          "outputs_hidden": true
        },
        "id": "e3a896ef-2a2a-45ff-a076-1540a6e2a365",
        "outputId": "cf80a12a-7713-41e7-96be-352e2723223c"
      },
      "outputs": [
        {
          "ename": "NameError",
          "evalue": "name 'Label' is not defined",
          "output_type": "error",
          "traceback": [
            "\u001b[0;31m---------------------------------------------------------------------------\u001b[0m",
            "\u001b[0;31mNameError\u001b[0m                                 Traceback (most recent call last)",
            "Cell \u001b[0;32mIn[6], line 2\u001b[0m\n\u001b[1;32m      1\u001b[0m \u001b[38;5;66;03m#General Syntax\u001b[39;00m\n\u001b[0;32m----> 2\u001b[0m w\u001b[38;5;241m=\u001b[39mLabel(master, option\u001b[38;5;241m=\u001b[39mvalue)\n",
            "\u001b[0;31mNameError\u001b[0m: name 'Label' is not defined"
          ]
        }
      ],
      "source": [
        "#General Syntax\n",
        "w=Label(master, option=value)\n",
        "#master is the parameter used to represent the parent window."
      ]
    },
    {
      "cell_type": "code",
      "execution_count": null,
      "id": "ad8a407f-9c75-4996-8e1b-41ff715c0520",
      "metadata": {
        "id": "ad8a407f-9c75-4996-8e1b-41ff715c0520"
      },
      "outputs": [],
      "source": [
        "from tkinter import *\n",
        "root = Tk()\n",
        "w = Label(root, text='NFL.mx')\n",
        "w.pack()\n",
        "root.mainloop()"
      ]
    },
    {
      "cell_type": "markdown",
      "id": "23e87a76-747b-47c3-b820-6b11177895dd",
      "metadata": {
        "id": "23e87a76-747b-47c3-b820-6b11177895dd"
      },
      "source": [
        "### Button\n",
        "A clickable button that can trigger an action."
      ]
    },
    {
      "cell_type": "code",
      "execution_count": null,
      "id": "c19e126c-2d8d-4500-a66c-2fb7e8eb10d8",
      "metadata": {
        "id": "c19e126c-2d8d-4500-a66c-2fb7e8eb10d8"
      },
      "outputs": [],
      "source": [
        "import tkinter as tk\n",
        "\n",
        "r = tk.Tk()\n",
        "r.title('Counting Seconds')\n",
        "button = tk.Button(r, text='Stop', width=25, command=r.destroy)\n",
        "button.pack()\n",
        "r.mainloop()"
      ]
    },
    {
      "cell_type": "markdown",
      "id": "23494f7b-3843-4579-baed-04d1c6e6fb9e",
      "metadata": {
        "id": "23494f7b-3843-4579-baed-04d1c6e6fb9e"
      },
      "source": [
        "## Entry\n",
        "It is used to input the single line text entry from the user. For multi-line text input, Text widget is used."
      ]
    },
    {
      "cell_type": "code",
      "execution_count": null,
      "id": "3465a9f1-c0b3-45b0-9d7b-9e48066ccac6",
      "metadata": {
        "id": "3465a9f1-c0b3-45b0-9d7b-9e48066ccac6"
      },
      "outputs": [],
      "source": [
        "from tkinter import *\n",
        "\n",
        "master = Tk()\n",
        "Label(master, text='First Name').grid(row=0)\n",
        "Label(master, text='Last Name').grid(row=1)\n",
        "e1 = Entry(master)\n",
        "e2 = Entry(master)\n",
        "e1.grid(row=0, column=1)\n",
        "e2.grid(row=1, column=1)\n",
        "mainloop()"
      ]
    },
    {
      "cell_type": "markdown",
      "id": "2ab417c8-b7d7-4a72-b93c-0c201395466a",
      "metadata": {
        "id": "2ab417c8-b7d7-4a72-b93c-0c201395466a"
      },
      "source": [
        "## CheckButton\n",
        "A checkbox can be toggled on or off. It can be linked to a variable to store its state."
      ]
    },
    {
      "cell_type": "code",
      "execution_count": null,
      "id": "6d2783ac-e2c7-4439-8183-7a58ed79fffb",
      "metadata": {
        "id": "6d2783ac-e2c7-4439-8183-7a58ed79fffb"
      },
      "outputs": [],
      "source": [
        "from tkinter import *\n",
        "\n",
        "master = Tk()\n",
        "var1 = IntVar()\n",
        "Checkbutton(master, text='male', variable=var1).grid(row=0, sticky=W)\n",
        "var2 = IntVar()\n",
        "Checkbutton(master, text='female', variable=var2).grid(row=1, sticky=W)\n",
        "mainloop()"
      ]
    },
    {
      "cell_type": "markdown",
      "id": "3aa536ef-81ab-4176-afd0-934ce2a55b26",
      "metadata": {
        "id": "3aa536ef-81ab-4176-afd0-934ce2a55b26"
      },
      "source": [
        "### RadioButton\n",
        "It allows the user to select one option from a set of choices. They are grouped by sharing the same variable."
      ]
    },
    {
      "cell_type": "code",
      "execution_count": null,
      "id": "cb4b8511-eff8-4a7f-842e-393747cc22bc",
      "metadata": {
        "id": "cb4b8511-eff8-4a7f-842e-393747cc22bc"
      },
      "outputs": [],
      "source": [
        "from tkinter import *\n",
        "\n",
        "root = Tk()\n",
        "v = IntVar()\n",
        "Radiobutton(root, text='GfG', variable=v, value=1).pack(anchor=W)\n",
        "Radiobutton(root, text='MIT', variable=v, value=2).pack(anchor=W)\n",
        "mainloop()"
      ]
    },
    {
      "cell_type": "markdown",
      "id": "0947ddbd-8597-409a-b6a7-fb0de4491f18",
      "metadata": {
        "id": "0947ddbd-8597-409a-b6a7-fb0de4491f18"
      },
      "source": [
        "### Listbox\n",
        "It displays a list of items from which a user can select one or more."
      ]
    },
    {
      "cell_type": "code",
      "execution_count": null,
      "id": "45cb96c8-e35d-4988-993a-0eb707730546",
      "metadata": {
        "id": "45cb96c8-e35d-4988-993a-0eb707730546"
      },
      "outputs": [],
      "source": [
        "from tkinter import *\n",
        "\n",
        "top = Tk()\n",
        "Lb = Listbox(top)\n",
        "Lb.insert(1, 'Python')\n",
        "Lb.insert(2, 'Java')\n",
        "Lb.insert(3, 'C++')\n",
        "Lb.insert(4, 'Any other')\n",
        "Lb.pack()\n",
        "top.mainloop()"
      ]
    },
    {
      "cell_type": "markdown",
      "id": "0d302b55-3032-420e-9c90-3095265f5bf2",
      "metadata": {
        "id": "0d302b55-3032-420e-9c90-3095265f5bf2"
      },
      "source": [
        "### Scrollbar\n",
        "It refers to the slide controller which will be used to implement listed widgets."
      ]
    },
    {
      "cell_type": "code",
      "execution_count": null,
      "id": "132237b7-eda0-4531-809a-c3490f679414",
      "metadata": {
        "id": "132237b7-eda0-4531-809a-c3490f679414"
      },
      "outputs": [],
      "source": [
        "from tkinter import *\n",
        "\n",
        "root = Tk()\n",
        "scrollbar = Scrollbar(root)\n",
        "scrollbar.pack(side=RIGHT, fill=Y)\n",
        "mylist = Listbox(root, yscrollcommand=scrollbar.set)\n",
        "\n",
        "for line in range(100):\n",
        "    mylist.insert(END, 'This is line number' + str(line))\n",
        "\n",
        "mylist.pack(side=LEFT, fill=BOTH)\n",
        "scrollbar.config(command=mylist.yview)\n",
        "mainloop()"
      ]
    },
    {
      "cell_type": "markdown",
      "id": "95ac9ea2-b61f-45b8-8b13-9c60e7459afe",
      "metadata": {
        "id": "95ac9ea2-b61f-45b8-8b13-9c60e7459afe"
      },
      "source": [
        "### Menu\n",
        "It is used to create all kinds of menus used by the application."
      ]
    },
    {
      "cell_type": "code",
      "execution_count": null,
      "id": "57ed0d48-fe77-4a32-8d2f-78e0e6547a6b",
      "metadata": {
        "id": "57ed0d48-fe77-4a32-8d2f-78e0e6547a6b"
      },
      "outputs": [],
      "source": [
        "from tkinter import *\n",
        "\n",
        "root = Tk()\n",
        "menu = Menu(root)\n",
        "root.config(menu=menu)\n",
        "filemenu = Menu(menu)\n",
        "menu.add_cascade(label='File', menu=filemenu)\n",
        "filemenu.add_command(label='New')\n",
        "filemenu.add_command(label='Open...')\n",
        "filemenu.add_separator()\n",
        "filemenu.add_command(label='Exit', command=root.quit)\n",
        "helpmenu = Menu(menu)\n",
        "menu.add_cascade(label='Help', menu=helpmenu)\n",
        "helpmenu.add_command(label='About')\n",
        "mainloop()"
      ]
    },
    {
      "cell_type": "markdown",
      "id": "1e3b3833-6676-4254-ad53-de88afa24935",
      "metadata": {
        "id": "1e3b3833-6676-4254-ad53-de88afa24935"
      },
      "source": [
        "### Combobox\n",
        "Combobox widget is created using the ttk.Combobox class from the tkinter.ttk module. The values for the Combobox are specified using the values parameter."
      ]
    },
    {
      "cell_type": "code",
      "execution_count": null,
      "id": "0d8180ce-7272-4acc-84d9-add0fb702f95",
      "metadata": {
        "id": "0d8180ce-7272-4acc-84d9-add0fb702f95"
      },
      "outputs": [],
      "source": [
        "import tkinter as tk\n",
        "from tkinter import ttk\n",
        "\n",
        "def select(event):\n",
        "    selected_item = combo_box.get()\n",
        "    label.config(text=\"Selected Item: \" + selected_item)\n",
        "\n",
        "root = tk.Tk()\n",
        "root.title(\"Combobox Example\")\n",
        "\n",
        "# Create a label\n",
        "label = tk.Label(root, text=\"Selected Item: \")\n",
        "label.pack(pady=10)\n",
        "\n",
        "# Create a Combobox widget\n",
        "combo_box = ttk.Combobox(root, values=[\"Option 1\", \"Option 2\", \"Option 3\"])\n",
        "combo_box.pack(pady=5)\n",
        "\n",
        "# Set default value\n",
        "combo_box.set(\"Option 1\")\n",
        "\n",
        "# Bind event to selection\n",
        "combo_box.bind(\"<<ComboboxSelected>>\", select)\n",
        "\n",
        "root.mainloop()"
      ]
    },
    {
      "cell_type": "markdown",
      "id": "ea5a5c0c-a76a-4384-b334-e20078bfbdb1",
      "metadata": {
        "id": "ea5a5c0c-a76a-4384-b334-e20078bfbdb1"
      },
      "source": [
        "### Scale\n",
        "It is used to provide a graphical slider that allows to select any value from that scale."
      ]
    },
    {
      "cell_type": "code",
      "execution_count": null,
      "id": "b1b50625-4430-4981-9306-94200ac8a465",
      "metadata": {
        "id": "b1b50625-4430-4981-9306-94200ac8a465"
      },
      "outputs": [],
      "source": [
        "from tkinter import *\n",
        "\n",
        "master = Tk()\n",
        "w = Scale(master, from_=0, to=42)\n",
        "w.pack()\n",
        "w = Scale(master, from_=0, to=200, orient=HORIZONTAL)\n",
        "w.pack()\n",
        "mainloop()"
      ]
    },
    {
      "cell_type": "markdown",
      "id": "41b7e637-234d-4ee0-a001-c6115d6bf38f",
      "metadata": {
        "id": "41b7e637-234d-4ee0-a001-c6115d6bf38f"
      },
      "source": [
        "### TopLevel\n",
        "This widget is directly controlled by the window manager. It don’t need any parent window to work on."
      ]
    },
    {
      "cell_type": "code",
      "execution_count": null,
      "id": "1a431fb8-80d5-4d2a-ad57-12fd41e4715d",
      "metadata": {
        "id": "1a431fb8-80d5-4d2a-ad57-12fd41e4715d"
      },
      "outputs": [],
      "source": [
        "from tkinter import *\n",
        "\n",
        "root = Tk()\n",
        "root.title('GfG')\n",
        "top = Toplevel()\n",
        "top.title('Python')\n",
        "top.mainloop()"
      ]
    },
    {
      "cell_type": "markdown",
      "id": "69a74669-e759-45f8-b21d-bb0ea0192e47",
      "metadata": {
        "id": "69a74669-e759-45f8-b21d-bb0ea0192e47"
      },
      "source": [
        "### Message\n",
        "It is a widget to display text messages with word wrapping."
      ]
    },
    {
      "cell_type": "code",
      "execution_count": null,
      "id": "1346caef-bb04-4f84-937c-14bbe4387284",
      "metadata": {
        "id": "1346caef-bb04-4f84-937c-14bbe4387284"
      },
      "outputs": [],
      "source": [
        "from tkinter import *\n",
        "\n",
        "main = Tk()\n",
        "ourMessage = 'This is our Message'\n",
        "messageVar = Message(main, text=ourMessage)\n",
        "messageVar.config(bg='lightgreen')\n",
        "messageVar.pack()\n",
        "main.mainloop()"
      ]
    },
    {
      "cell_type": "markdown",
      "id": "080f7d3b-0181-4056-b721-686ff7c90495",
      "metadata": {
        "id": "080f7d3b-0181-4056-b721-686ff7c90495"
      },
      "source": [
        "### Menubutton\n",
        "It is a part of top-down menu which stays on the window all the time. Every menubutton has its own functionality."
      ]
    },
    {
      "cell_type": "code",
      "execution_count": null,
      "id": "9f04f6f1-aad0-4012-a184-07f9ac87e421",
      "metadata": {
        "id": "9f04f6f1-aad0-4012-a184-07f9ac87e421"
      },
      "outputs": [],
      "source": [
        "from tkinter import *\n",
        "\n",
        "top = Tk()\n",
        "mb = Menubutton ( top, text = \"GfG\")\n",
        "mb.grid()\n",
        "mb.menu = Menu ( mb, tearoff = 0 )\n",
        "mb[\"menu\"] = mb.menu\n",
        "cVar = IntVar()\n",
        "aVar = IntVar()\n",
        "mb.menu.add_checkbutton ( label ='Contact', variable = cVar )\n",
        "mb.menu.add_checkbutton ( label = 'About', variable = aVar )\n",
        "mb.pack()\n",
        "top.mainloop()"
      ]
    },
    {
      "cell_type": "markdown",
      "id": "0c3e8ea4-f2d1-4c6d-b7c3-b3fde2da2bc1",
      "metadata": {
        "id": "0c3e8ea4-f2d1-4c6d-b7c3-b3fde2da2bc1"
      },
      "source": [
        "### Progressbar\n",
        "progressbar indicates the progress of a long-running task. When the button is clicked, the progressbar fills up to 100% over a short period, simulating a task that takes time to complete."
      ]
    },
    {
      "cell_type": "code",
      "execution_count": null,
      "id": "7288045c-c259-411e-b210-e8d4b40d864a",
      "metadata": {
        "id": "7288045c-c259-411e-b210-e8d4b40d864a"
      },
      "outputs": [],
      "source": [
        "import tkinter as tk\n",
        "from tkinter import ttk\n",
        "import time\n",
        "\n",
        "def start_progress():\n",
        "    progress.start()\n",
        "\n",
        "    # Simulate a task that takes time to complete\n",
        "    for i in range(101):\n",
        "      # Simulate some work\n",
        "        time.sleep(0.05)\n",
        "        progress['value'] = i\n",
        "        # Update the GUI\n",
        "        root.update_idletasks()\n",
        "    progress.stop()\n",
        "\n",
        "root = tk.Tk()\n",
        "root.title(\"Progressbar Example\")\n",
        "\n",
        "# Create a progressbar widget\n",
        "progress = ttk.Progressbar(root, orient=\"horizontal\", length=300, mode=\"determinate\")\n",
        "progress.pack(pady=20)\n",
        "\n",
        "# Button to start progress\n",
        "start_button = tk.Button(root, text=\"Start Progress\", command=start_progress)\n",
        "start_button.pack(pady=10)\n",
        "\n",
        "root.mainloop()"
      ]
    },
    {
      "cell_type": "markdown",
      "id": "7938cab0-b54e-429f-8b1c-c1d1735200ea",
      "metadata": {
        "id": "7938cab0-b54e-429f-8b1c-c1d1735200ea"
      },
      "source": [
        "### SpinBox\n",
        "It is an entry of ‘Entry’ widget. Here, value can be input by selecting a fixed value of numbers."
      ]
    },
    {
      "cell_type": "code",
      "execution_count": null,
      "id": "5c99d207-1515-4898-9cb4-ba610b290413",
      "metadata": {
        "id": "5c99d207-1515-4898-9cb4-ba610b290413"
      },
      "outputs": [],
      "source": [
        "from tkinter import *\n",
        "\n",
        "master = Tk()\n",
        "w = Spinbox(master, from_=0, to=10)\n",
        "w.pack()\n",
        "mainloop()"
      ]
    },
    {
      "cell_type": "markdown",
      "id": "afdea288-c554-44a4-8131-464db3c5aca7",
      "metadata": {
        "id": "afdea288-c554-44a4-8131-464db3c5aca7"
      },
      "source": [
        "### Text\n",
        "To edit a multi-line text and format the way it has to be displayed."
      ]
    },
    {
      "cell_type": "code",
      "execution_count": null,
      "id": "88c205f5-1f7f-46ff-9986-f04e9306614c",
      "metadata": {
        "id": "88c205f5-1f7f-46ff-9986-f04e9306614c"
      },
      "outputs": [],
      "source": [
        "from tkinter import *\n",
        "\n",
        "root = Tk()\n",
        "T = Text(root, height=2, width=30)\n",
        "T.pack()\n",
        "T.insert(END, 'GeeksforGeeks\\nBEST WEBSITE\\n')\n",
        "mainloop()"
      ]
    },
    {
      "cell_type": "markdown",
      "id": "ce8ceac2-b002-4088-bcce-6b7e2dd4191a",
      "metadata": {
        "id": "ce8ceac2-b002-4088-bcce-6b7e2dd4191a"
      },
      "source": [
        "### Canvas\n",
        "It is used to draw pictures and other complex layout like graphics, text and widgets.\n"
      ]
    },
    {
      "cell_type": "code",
      "execution_count": null,
      "id": "a7828d1f-0df0-4d51-b754-db91f58f687d",
      "metadata": {
        "id": "a7828d1f-0df0-4d51-b754-db91f58f687d"
      },
      "outputs": [],
      "source": [
        "from tkinter import *\n",
        "\n",
        "master = Tk()\n",
        "w = Canvas(master, width=40, height=60)\n",
        "w.pack()\n",
        "canvas_height=20\n",
        "canvas_width=200\n",
        "y = int(canvas_height / 2)\n",
        "w.create_line(0, y, canvas_width, y )\n",
        "mainloop()"
      ]
    },
    {
      "cell_type": "markdown",
      "id": "f76995a3-45b6-4f90-861f-bca953c24467",
      "metadata": {
        "id": "f76995a3-45b6-4f90-861f-bca953c24467"
      },
      "source": [
        "### PannedWindow\n",
        "It is a container widget which is used to handle number of panes arranged in it."
      ]
    },
    {
      "cell_type": "code",
      "execution_count": null,
      "id": "6fc22962-3b5d-42b4-b31e-4a8574ca9363",
      "metadata": {
        "id": "6fc22962-3b5d-42b4-b31e-4a8574ca9363"
      },
      "outputs": [],
      "source": [
        "from tkinter import *\n",
        "\n",
        "m1 = PanedWindow()\n",
        "m1.pack(fill=BOTH, expand=1)\n",
        "left = Entry(m1, bd=5)\n",
        "m1.add(left)\n",
        "m2 = PanedWindow(m1, orient=VERTICAL)\n",
        "m1.add(m2)\n",
        "top = Scale(m2, orient=HORIZONTAL)\n",
        "m2.add(top)\n",
        "mainloop()"
      ]
    },
    {
      "cell_type": "markdown",
      "id": "b8fe28dd-65e2-4ec2-a2d6-39a845aaee39",
      "metadata": {
        "id": "b8fe28dd-65e2-4ec2-a2d6-39a845aaee39"
      },
      "source": [
        "## Color Option in Tkinter\n",
        "This example shows how to use different color options in Tkinter widgets, including active background and foreground colors, disabled state colors, and selection colors. Each widget demonstrates how these color options impact the widget's appearance visually."
      ]
    },
    {
      "cell_type": "code",
      "execution_count": null,
      "id": "f6de0656-c982-4850-baa2-a2c1e2591ae1",
      "metadata": {
        "id": "f6de0656-c982-4850-baa2-a2c1e2591ae1"
      },
      "outputs": [],
      "source": [
        "import tkinter as tk\n",
        "\n",
        "root = tk.Tk()\n",
        "root.title(\"Color Options in Tkinter\")\n",
        "\n",
        "# Create a button with active background and foreground colors\n",
        "button = tk.Button(root, text=\"Click Me\", activebackground=\"blue\", activeforeground=\"white\")\n",
        "button.pack()\n",
        "\n",
        "# Create a label with background and foreground colors\n",
        "label = tk.Label(root, text=\"Hello, Tkinter!\", bg=\"lightgray\", fg=\"black\")\n",
        "label.pack()\n",
        "\n",
        "# Create an Entry widget with selection colors\n",
        "entry = tk.Entry(root, selectbackground=\"lightblue\", selectforeground=\"black\")\n",
        "entry.pack()\n",
        "\n",
        "root.mainloop()"
      ]
    },
    {
      "cell_type": "markdown",
      "id": "af111151-6d07-4b9d-b008-0e492f50af7f",
      "metadata": {
        "id": "af111151-6d07-4b9d-b008-0e492f50af7f"
      },
      "source": [
        "## Tkinter Geometry Managers\n",
        "Tkinter provides geometry managers to organize widgets in the parent window. One such manager is the `pack()` method, which arranges widgets in blocks within the parent widget. Widgets can be packed to the top, bottom, left, or right, and can either expand to fill available space or be placed in a fixed size."
      ]
    },
    {
      "cell_type": "code",
      "execution_count": null,
      "id": "68c9cc3b-ff09-4bfc-855d-db728f204286",
      "metadata": {
        "id": "68c9cc3b-ff09-4bfc-855d-db728f204286"
      },
      "outputs": [],
      "source": [
        "import tkinter as tk\n",
        "\n",
        "root = tk.Tk()\n",
        "root.title(\"Pack Example\")\n",
        "\n",
        "# Create three buttons\n",
        "button1 = tk.Button(root, text=\"Button 1\")\n",
        "button2 = tk.Button(root, text=\"Button 2\")\n",
        "button3 = tk.Button(root, text=\"Button 3\")\n",
        "\n",
        "# Pack the buttons vertically\n",
        "button1.pack()\n",
        "button2.pack()\n",
        "button3.pack()\n",
        "\n",
        "root.mainloop()"
      ]
    },
    {
      "cell_type": "markdown",
      "id": "1e988f4b-3bd6-4386-b13d-56685828727e",
      "metadata": {
        "id": "1e988f4b-3bd6-4386-b13d-56685828727e"
      },
      "source": [
        "## grid() method\n",
        "It organizes the widgets in grid (table-like structure) before placing in the parent widget. Each widget is assigned a row and column. Widgets can span multiple rows or columns using rowspan and columnspan."
      ]
    },
    {
      "cell_type": "code",
      "execution_count": null,
      "id": "1e4c0579-8861-4c44-a434-df77249bb76c",
      "metadata": {
        "id": "1e4c0579-8861-4c44-a434-df77249bb76c"
      },
      "outputs": [],
      "source": [
        "import tkinter as tk\n",
        "\n",
        "root = tk.Tk()\n",
        "root.title(\"Grid Example\")\n",
        "\n",
        "# Create three labels\n",
        "label1 = tk.Label(root, text=\"Label 1\")\n",
        "label2 = tk.Label(root, text=\"Label 2\")\n",
        "label3 = tk.Label(root, text=\"Label 3\")\n",
        "\n",
        "# Grid the labels in a 2x2 grid\n",
        "label1.grid(row=0, column=0)\n",
        "label2.grid(row=0, column=1)\n",
        "label3.grid(row=1, column=0, columnspan=2)\n",
        "\n",
        "root.mainloop()"
      ]
    },
    {
      "cell_type": "markdown",
      "id": "5770693b-c245-49f6-96ad-cb8eb32b654a",
      "metadata": {
        "id": "5770693b-c245-49f6-96ad-cb8eb32b654a"
      },
      "source": [
        "## place() method\n",
        "It organizes the widgets by placing them on specific positions directed by the programmer. Widgets are placed at specific x and y coordinates."
      ]
    },
    {
      "cell_type": "code",
      "execution_count": null,
      "id": "d7bff20b-3081-4c53-a531-23214fd4c007",
      "metadata": {
        "id": "d7bff20b-3081-4c53-a531-23214fd4c007"
      },
      "outputs": [],
      "source": [
        "import tkinter as tk\n",
        "\n",
        "root = tk.Tk()\n",
        "root.title(\"Place Example\")\n",
        "\n",
        "# Create a label\n",
        "label = tk.Label(root, text=\"Label\")\n",
        "\n",
        "# Place the label at specific coordinates\n",
        "label.place(x=50, y=50)\n",
        "\n",
        "root.mainloop()"
      ]
    },
    {
      "cell_type": "markdown",
      "id": "d5c1cedd-cad4-451d-8f11-4de5bdd1ea2b",
      "metadata": {
        "id": "d5c1cedd-cad4-451d-8f11-4de5bdd1ea2b"
      },
      "source": [
        "## Event Handling in Tkinter\n",
        "vent Handling in Tkinter\n",
        "\n",
        "In Tkinter, events occur when a user interacts with the GUI, such as key presses, mouse clicks, or window resizing. Event handling allows the application to respond to these interactions.\n",
        "\n",
        "Events and Bindings\n",
        "Tkinter uses bindings to capture events and associate them with callback functions (event handlers). When an event occurs, the assigned function is executed.\n",
        "\n",
        "Key and Mouse Events\n",
        "Key events are triggered when a user presses a key on the keyboard. Mouse events are triggered by mouse actions, such as clicking or moving the mouse."
      ]
    },
    {
      "cell_type": "code",
      "execution_count": null,
      "id": "4cb5fc5a-7389-43ed-8d3f-39261b2c74e5",
      "metadata": {
        "id": "4cb5fc5a-7389-43ed-8d3f-39261b2c74e5",
        "outputId": "1a4b6528-2a16-45cc-95da-4bb2400f79e1"
      },
      "outputs": [
        {
          "name": "stdout",
          "output_type": "stream",
          "text": [
            "Mouse moved to (-169, 173)\n",
            "Mouse moved to (-175, 178)\n",
            "Mouse moved to (-181, 184)\n",
            "Mouse moved to (-185, 188)\n",
            "Mouse moved to (-188, 191)\n",
            "Mouse moved to (-191, 194)\n",
            "Mouse moved to (-189, 192)\n",
            "Mouse moved to (-183, 181)\n",
            "Mouse moved to (-173, 166)\n",
            "Mouse moved to (-162, 147)\n",
            "Mouse moved to (-156, 138)\n",
            "Mouse moved to (-144, 121)\n",
            "Mouse moved to (-130, 104)\n",
            "Mouse moved to (-116, 89)\n",
            "Mouse moved to (-104, 76)\n",
            "Mouse moved to (-91, 63)\n",
            "Mouse moved to (-68, 39)\n",
            "Mouse moved to (-62, 32)\n",
            "Mouse moved to (-50, 19)\n",
            "Mouse moved to (-45, 14)\n",
            "Mouse moved to (-37, 4)\n",
            "Mouse moved to (-30, -2)\n",
            "Mouse moved to (-23, -7)\n",
            "Mouse moved to (-18, -11)\n",
            "Mouse moved to (-13, -12)\n",
            "Mouse moved to (-12, -13)\n",
            "Mouse moved to (-9, -14)\n",
            "Mouse moved to (-8, -14)\n",
            "Mouse moved to (-6, -14)\n",
            "Mouse moved to (-3, -13)\n",
            "Mouse moved to (0, -12)\n",
            "Mouse moved to (3, -12)\n",
            "Mouse moved to (7, -11)\n",
            "Mouse moved to (12, -10)\n",
            "Mouse moved to (14, -10)\n",
            "Mouse moved to (18, -9)\n",
            "Mouse moved to (21, -9)\n",
            "Mouse moved to (23, -8)\n",
            "Mouse moved to (24, -8)\n",
            "Mouse moved to (25, -8)\n",
            "Mouse moved to (26, -7)\n",
            "Mouse moved to (26, -7)\n",
            "Mouse moved to (27, -7)\n",
            "Mouse moved to (27, -7)\n",
            "Mouse moved to (27, -7)\n",
            "Mouse moved to (27, -7)\n",
            "Mouse moved to (26, -7)\n",
            "Mouse moved to (26, -6)\n",
            "Mouse moved to (24, -6)\n",
            "Mouse moved to (24, -6)\n",
            "Mouse moved to (22, -6)\n",
            "Mouse moved to (21, -6)\n",
            "Mouse moved to (19, -6)\n",
            "Mouse moved to (18, -6)\n",
            "Mouse moved to (18, -7)\n",
            "Mouse moved to (17, -8)\n",
            "Mouse moved to (16, -8)\n",
            "Mouse moved to (15, -8)\n",
            "Mouse moved to (15, -9)\n",
            "Mouse moved to (15, -9)\n",
            "Mouse moved to (15, -10)\n",
            "Mouse moved to (15, -10)\n",
            "Mouse moved to (15, -11)\n",
            "Mouse moved to (15, -12)\n",
            "Mouse moved to (15, -12)\n",
            "Mouse moved to (14, -13)\n",
            "Mouse moved to (14, -14)\n",
            "Mouse moved to (13, -14)\n",
            "Mouse moved to (13, -15)\n",
            "Mouse moved to (13, -15)\n",
            "Mouse moved to (12, -15)\n",
            "Mouse moved to (12, -15)\n",
            "Mouse moved to (11, -15)\n",
            "Mouse moved to (11, -15)\n",
            "Mouse moved to (11, -15)\n",
            "Mouse moved to (11, -15)\n"
          ]
        }
      ],
      "source": [
        "import tkinter as tk\n",
        "\n",
        "def on_key_press(event):\n",
        "    print(f\"Key pressed: {event.keysym}\")\n",
        "\n",
        "def on_left_click(event):\n",
        "    print(f\"Left click at ({event.x}, {event.y})\")\n",
        "\n",
        "def on_right_click(event):\n",
        "    print(f\"Right click at ({event.x}, {event.y})\")\n",
        "\n",
        "def on_mouse_motion(event):\n",
        "    print(f\"Mouse moved to ({event.x}, {event.y})\")\n",
        "\n",
        "root = tk.Tk()\n",
        "root.title(\"Advanced Event Handling Example\")\n",
        "\n",
        "root.bind(\"<KeyPress>\", on_key_press)\n",
        "root.bind(\"<Button-1>\", on_left_click)\n",
        "root.bind(\"<Button-3>\", on_right_click)\n",
        "root.bind(\"<Motion>\", on_mouse_motion)\n",
        "\n",
        "root.mainloop()"
      ]
    },
    {
      "cell_type": "markdown",
      "id": "8d0acc87-9021-4c65-b73c-64b0d16d13e7",
      "metadata": {
        "id": "8d0acc87-9021-4c65-b73c-64b0d16d13e7"
      },
      "source": [
        "## Event Object\n",
        "\n",
        "The event object is passed to the callback function when an event occurs. It contains useful information about the event, such as:"
      ]
    }
  ],
  "metadata": {
    "kernelspec": {
      "display_name": "Python [conda env:base] *",
      "language": "python",
      "name": "conda-base-py"
    },
    "language_info": {
      "codemirror_mode": {
        "name": "ipython",
        "version": 3
      },
      "file_extension": ".py",
      "mimetype": "text/x-python",
      "name": "python",
      "nbconvert_exporter": "python",
      "pygments_lexer": "ipython3",
      "version": "3.12.7"
    },
    "colab": {
      "provenance": []
    }
  },
  "nbformat": 4,
  "nbformat_minor": 5
}