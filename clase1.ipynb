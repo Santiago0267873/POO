{
  "nbformat": 4,
  "nbformat_minor": 0,
  "metadata": {
    "colab": {
      "provenance": []
    },
    "kernelspec": {
      "name": "python3",
      "display_name": "Python 3"
    },
    "language_info": {
      "name": "python"
    }
  },
  "cells": [
    {
      "cell_type": "code",
      "execution_count": null,
      "metadata": {
        "id": "624n2tEzpPmM"
      },
      "outputs": [],
      "source": []
    },
    {
      "cell_type": "markdown",
      "source": [
        "# Introducción a Python\n",
        "Python es un lenguaje de programación de alto nivel, interpretado y de propósito general. Fue creado por Guido van Rossum y lanzado por primera vez en 1991. Python es conocido por su sintaxis simple y legible, lo que lo convierte en un lenguaje ideal para principiantes. También es un lenguaje muy versátil que se puede usar para una amplia gama de tareas, incluyendo el desarrollo web, el análisis de datos, la inteligencia artificial y más. Python es un lenguaje popular y tiene una gran comunidad de usuarios y desarrolladores, lo que significa que hay muchos recursos disponibles para ayudar a los usuarios a aprender y usar el lenguaje.\n",
        "\n",
        "## ¿Qué verémos hoy?\n",
        "1.   Objetos\n",
        "2.   Variables\n",
        "3.   Ejemplo\n",
        "\n",
        "### Algunos objetos en Python\n",
        "\n",
        "\n",
        "1.   int y float (enteros y doubles)\n",
        "2.   str (\"string\")\n",
        "3.   Conjuntos y Listas\n",
        "\n",
        "---\n",
        "\n",
        "**La función `print`**\n",
        "\n",
        "#### Operaciones básicas en int o float\n",
        "\n",
        "\n",
        "*   $+, \\ -$ Suma y resta\n",
        "*   $*,/,**$ Multiplicación, división y potenciación\n",
        "*   $\\%$ Operación modular\n",
        "*   $//$ División al piso\n",
        "\n"
      ],
      "metadata": {
        "id": "qeSR8xlJqPd3"
      }
    },
    {
      "cell_type": "markdown",
      "source": [
        "**Creación de variables**\n",
        "\n",
        "nombre = objeto"
      ],
      "metadata": {
        "id": "tLJhL4MoFOjO"
      }
    },
    {
      "cell_type": "markdown",
      "source": [
        "Nota: En este procesador de texto, se puede escribir en html y en latex.\n",
        "Por ejemplo, vamos a escribir a la ecuación más hermosa de todas:\n",
        "$$e^{i\\pi}+1=0$$\n",
        "Otro ejemplo:\n",
        "$$\\begin{bmatrix}\n",
        "a & b \\\\\n",
        "c & d\n",
        "\\end{bmatrix}$$"
      ],
      "metadata": {
        "id": "m9QPyEspt6gR"
      }
    },
    {
      "cell_type": "code",
      "source": [
        "# Vamos a imprimir como escribir hola mundo, se puede poner solo con comillas pero se le mantienen y los funciona si va antes de lo demas\n",
        "print (\"Hello World!\");\n",
        "\"Hola Mundo!\""
      ],
      "metadata": {
        "colab": {
          "base_uri": "https://localhost:8080/",
          "height": 53
        },
        "id": "0myLIBC78IK3",
        "outputId": "51d8ea6e-bcf7-4859-fe1b-623c785ca0ee"
      },
      "execution_count": 7,
      "outputs": [
        {
          "output_type": "stream",
          "name": "stdout",
          "text": [
            "Hello World!\n"
          ]
        },
        {
          "output_type": "execute_result",
          "data": {
            "text/plain": [
              "'Hola Mundo!'"
            ],
            "application/vnd.google.colaboratory.intrinsic+json": {
              "type": "string"
            }
          },
          "metadata": {},
          "execution_count": 7
        }
      ]
    },
    {
      "cell_type": "code",
      "source": [
        "# Vamos a crear dos variables\n",
        "x = 7\n",
        "y = 3\n",
        "type(x/y)"
      ],
      "metadata": {
        "colab": {
          "base_uri": "https://localhost:8080/"
        },
        "id": "FIyI7RBNF0A_",
        "outputId": "85161113-74c1-4ac9-cc8f-b2efc0aae2ba"
      },
      "execution_count": 13,
      "outputs": [
        {
          "output_type": "execute_result",
          "data": {
            "text/plain": [
              "float"
            ]
          },
          "metadata": {},
          "execution_count": 13
        }
      ]
    },
    {
      "cell_type": "code",
      "source": [
        "print (f\"La suma entre {x} y {y} es {x+y}\")\n",
        "print (f\"La potenciación entre {x} y {y} es {x**y}\")\n",
        "print (f\"El residuo entre {x} y {y} es {x%y}\")\n",
        "print (f\"La división al piso entre {x} y {y} es {x//y}\")"
      ],
      "metadata": {
        "colab": {
          "base_uri": "https://localhost:8080/",
          "height": 106
        },
        "id": "IezYctNXHVde",
        "outputId": "23b5dd98-fb97-41c1-dd65-a9ac24ff7627"
      },
      "execution_count": 16,
      "outputs": [
        {
          "output_type": "error",
          "ename": "IndentationError",
          "evalue": "expected an indented block after 'while' statement on line 5 (<ipython-input-16-af97d3397fb8>, line 6)",
          "traceback": [
            "\u001b[0;36m  File \u001b[0;32m\"<ipython-input-16-af97d3397fb8>\"\u001b[0;36m, line \u001b[0;32m6\u001b[0m\n\u001b[0;31m    {\u001b[0m\n\u001b[0m    ^\u001b[0m\n\u001b[0;31mIndentationError\u001b[0m\u001b[0;31m:\u001b[0m expected an indented block after 'while' statement on line 5\n"
          ]
        }
      ]
    }
  ]
}