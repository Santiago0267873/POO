{
  "nbformat": 4,
  "nbformat_minor": 0,
  "metadata": {
    "colab": {
      "provenance": []
    },
    "kernelspec": {
      "name": "python3",
      "display_name": "Python 3"
    },
    "language_info": {
      "name": "python"
    }
  },
  "cells": [
    {
      "cell_type": "markdown",
      "source": [
        "# Manejo de exepciones\n",
        "\n",
        "Las funciones a usar son\n",
        "\n",
        "\n",
        "```\n",
        "# try:\n",
        "  bloque de condición\n",
        "  except:\n",
        "  bloque de excepciones\n",
        "\n",
        "```\n",
        "Vamos a usar una función que se llama `assert`."
      ],
      "metadata": {
        "id": "NK0DwpD4BBS5"
      }
    },
    {
      "cell_type": "code",
      "execution_count": null,
      "metadata": {
        "id": "ffXhciknA9BN"
      },
      "outputs": [],
      "source": [
        "def division(a,b):\n",
        "  return a/b"
      ]
    },
    {
      "cell_type": "code",
      "source": [
        "division(1,0)"
      ],
      "metadata": {
        "colab": {
          "base_uri": "https://localhost:8080/",
          "height": 139
        },
        "id": "zIKhD4CVC4zc",
        "outputId": "f0b2628e-939a-40c5-859b-3dcb9525d7c0"
      },
      "execution_count": null,
      "outputs": [
        {
          "output_type": "error",
          "ename": "NameError",
          "evalue": "name 'division' is not defined",
          "traceback": [
            "\u001b[0;31m---------------------------------------------------------------------------\u001b[0m",
            "\u001b[0;31mNameError\u001b[0m                                 Traceback (most recent call last)",
            "\u001b[0;32m<ipython-input-1-b1a4f064b07e>\u001b[0m in \u001b[0;36m<cell line: 0>\u001b[0;34m()\u001b[0m\n\u001b[0;32m----> 1\u001b[0;31m \u001b[0mdivision\u001b[0m\u001b[0;34m(\u001b[0m\u001b[0;36m1\u001b[0m\u001b[0;34m,\u001b[0m\u001b[0;36m0\u001b[0m\u001b[0;34m)\u001b[0m\u001b[0;34m\u001b[0m\u001b[0;34m\u001b[0m\u001b[0m\n\u001b[0m",
            "\u001b[0;31mNameError\u001b[0m: name 'division' is not defined"
          ]
        }
      ]
    },
    {
      "cell_type": "code",
      "source": [
        "#Ejemplo 1\n",
        "a = 5\n",
        "\n",
        "b = 0\n",
        "\n",
        "try:\n",
        "  x = a/b\n",
        "except ZeroDivisionError:\n",
        "  print(\"Alvaro, no dividas entre 0\")"
      ],
      "metadata": {
        "colab": {
          "base_uri": "https://localhost:8080/"
        },
        "id": "m91kv8hCDOza",
        "outputId": "700ce2b3-369a-44fa-fdc1-5313d61670d9"
      },
      "execution_count": null,
      "outputs": [
        {
          "output_type": "stream",
          "name": "stdout",
          "text": [
            "Alvaro, no dividas entre 0\n"
          ]
        }
      ]
    },
    {
      "cell_type": "code",
      "source": [
        "#Ejemplo 2\n",
        "\n",
        "try :\n",
        "  d = 2+ \"Ceci\"\n",
        "except TypeError:\n",
        "    print(\"¡Cuidado! La suma debe ser sobre los mismos objetos\")"
      ],
      "metadata": {
        "colab": {
          "base_uri": "https://localhost:8080/"
        },
        "id": "G6ffAlFLDxuf",
        "outputId": "6406fb7b-2ae5-4ce1-9e5d-207332733312"
      },
      "execution_count": null,
      "outputs": [
        {
          "output_type": "stream",
          "name": "stdout",
          "text": [
            "¡Cuidado! La suma debe ser sobre los mismos objetos\n"
          ]
        }
      ]
    },
    {
      "cell_type": "code",
      "source": [
        "#Redefinir nuestra definición de división\n",
        "\n",
        "def division(a,b):\n",
        "  try:\n",
        "    c = a/b\n",
        "    print(\"Resultado de la división\", c)\n",
        "  except ZeroDivisionError:\n",
        "    print(\"Jaume, no dividas entre cero\")\n",
        "  except TypeError:\n",
        "      print(\"No dividas un número entre un string\")\n"
      ],
      "metadata": {
        "id": "-z7futmeFYLl"
      },
      "execution_count": null,
      "outputs": []
    },
    {
      "cell_type": "code",
      "source": [
        "division(5,0)"
      ],
      "metadata": {
        "colab": {
          "base_uri": "https://localhost:8080/"
        },
        "id": "KNmIOhx8GecC",
        "outputId": "999b637f-7770-4f0b-d67f-8caefd87c53f"
      },
      "execution_count": null,
      "outputs": [
        {
          "output_type": "stream",
          "name": "stdout",
          "text": [
            "Jaume, no dividas entre cero\n"
          ]
        }
      ]
    },
    {
      "cell_type": "code",
      "source": [
        "division(2,\"Ceci\")"
      ],
      "metadata": {
        "colab": {
          "base_uri": "https://localhost:8080/"
        },
        "id": "nNkQyeBPGlqI",
        "outputId": "f9436ec1-5b67-49d1-e947-4c2f4f0abb6c"
      },
      "execution_count": null,
      "outputs": [
        {
          "output_type": "stream",
          "name": "stdout",
          "text": [
            "No dividas un número entre un string\n"
          ]
        }
      ]
    },
    {
      "cell_type": "code",
      "source": [
        "division(2,3)"
      ],
      "metadata": {
        "colab": {
          "base_uri": "https://localhost:8080/"
        },
        "id": "Y48QM7QOHYAP",
        "outputId": "6dcb4b5c-387e-4523-b503-1249ffb598e7"
      },
      "execution_count": null,
      "outputs": [
        {
          "output_type": "stream",
          "name": "stdout",
          "text": [
            "Resultado de la división 0.6666666666666666\n"
          ]
        }
      ]
    },
    {
      "cell_type": "markdown",
      "source": [
        "## La función `assert`"
      ],
      "metadata": {
        "id": "GuXZqSHBHhRZ"
      }
    },
    {
      "cell_type": "code",
      "source": [
        "assert(1==2)"
      ],
      "metadata": {
        "colab": {
          "base_uri": "https://localhost:8080/",
          "height": 139
        },
        "collapsed": true,
        "id": "kaNIxONSHz30",
        "outputId": "48fa21ce-dc2d-438c-f910-338c889eeb91"
      },
      "execution_count": null,
      "outputs": [
        {
          "output_type": "error",
          "ename": "AssertionError",
          "evalue": "",
          "traceback": [
            "\u001b[0;31m---------------------------------------------------------------------------\u001b[0m",
            "\u001b[0;31mAssertionError\u001b[0m                            Traceback (most recent call last)",
            "\u001b[0;32m<ipython-input-18-91d16dafa3fa>\u001b[0m in \u001b[0;36m<cell line: 0>\u001b[0;34m()\u001b[0m\n\u001b[0;32m----> 1\u001b[0;31m \u001b[0;32massert\u001b[0m\u001b[0;34m(\u001b[0m\u001b[0;36m1\u001b[0m\u001b[0;34m==\u001b[0m\u001b[0;36m2\u001b[0m\u001b[0;34m)\u001b[0m\u001b[0;34m\u001b[0m\u001b[0;34m\u001b[0m\u001b[0m\n\u001b[0m",
            "\u001b[0;31mAssertionError\u001b[0m: "
          ]
        }
      ]
    },
    {
      "cell_type": "code",
      "source": [
        "def calcular_media(L):\n",
        "  z = sum(L)/len(L)\n",
        "  return z"
      ],
      "metadata": {
        "id": "HedO__OnJDv7"
      },
      "execution_count": null,
      "outputs": []
    },
    {
      "cell_type": "code",
      "source": [
        "calcular_media([17,19,25.0,-2])"
      ],
      "metadata": {
        "colab": {
          "base_uri": "https://localhost:8080/"
        },
        "id": "qBKloSQtJuRk",
        "outputId": "bd154af5-1f06-4474-938d-9196bfeee1e3"
      },
      "execution_count": null,
      "outputs": [
        {
          "output_type": "execute_result",
          "data": {
            "text/plain": [
              "14.75"
            ]
          },
          "metadata": {},
          "execution_count": 14
        }
      ]
    },
    {
      "cell_type": "code",
      "source": [
        "assert(calcular_media([17,19,25.0,-2]) == 14.75)"
      ],
      "metadata": {
        "id": "Hb_cTct6J-6Q"
      },
      "execution_count": null,
      "outputs": []
    }
  ]
}