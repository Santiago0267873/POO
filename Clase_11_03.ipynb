{
  "nbformat": 4,
  "nbformat_minor": 0,
  "metadata": {
    "colab": {
      "provenance": []
    },
    "kernelspec": {
      "name": "python3",
      "display_name": "Python 3"
    },
    "language_info": {
      "name": "python"
    }
  },
  "cells": [
    {
      "cell_type": "markdown",
      "source": [
        "#Clases_Probabilidad"
      ],
      "metadata": {
        "id": "up2KbQmeGSZK"
      }
    },
    {
      "cell_type": "code",
      "execution_count": null,
      "metadata": {
        "colab": {
          "base_uri": "https://localhost:8080/"
        },
        "id": "N88BNA_NGIQE",
        "outputId": "29016f61-660f-4ae4-d55b-14d8171fd54e"
      },
      "outputs": [
        {
          "output_type": "execute_result",
          "data": {
            "text/plain": [
              "496"
            ]
          },
          "metadata": {},
          "execution_count": 73
        }
      ],
      "source": [
        "import numpy as np\n",
        "np.random.seed(1)\n",
        "np.random.binomial(1000,0.5)"
      ]
    },
    {
      "cell_type": "markdown",
      "source": [
        "  Supongamos que se lanzan dos dados justos.\n",
        "  $$\\Omega = \\{1,2,3,4,5,6\\}\\times \\{1,2,3,4,5,6\\}$$"
      ],
      "metadata": {
        "id": "_t77LOMOGeOe"
      }
    },
    {
      "cell_type": "code",
      "source": [
        "import itertools\n",
        "from itertools import product\n",
        "\n",
        "Omega = set(product({1,2,3,4,5,6}, repeat = 2))\n",
        "print(f\"La cardialidad del espacio muestral es: {len(Omega)}\")"
      ],
      "metadata": {
        "colab": {
          "base_uri": "https://localhost:8080/"
        },
        "id": "Z4EFlJKIGnRZ",
        "outputId": "28f40517-62c4-4033-e15b-0f315abc4470"
      },
      "execution_count": null,
      "outputs": [
        {
          "output_type": "stream",
          "name": "stdout",
          "text": [
            "La cardialidad del espacio muestral es: 36\n"
          ]
        }
      ]
    },
    {
      "cell_type": "markdown",
      "source": [
        "Vamos a considerar al evento\n",
        "$$S=\\{(i,j)\\in \\Omega : i+j = 7 \\}$$"
      ],
      "metadata": {
        "id": "DDhpbhjLH6SP"
      }
    },
    {
      "cell_type": "code",
      "source": [
        "S = {om for om in Omega  if (om[0] + om[1]) == 7}\n",
        "S"
      ],
      "metadata": {
        "colab": {
          "base_uri": "https://localhost:8080/"
        },
        "id": "Du1y1kUiIhMQ",
        "outputId": "79659124-8acc-4197-81e3-acd6c4d8d848"
      },
      "execution_count": null,
      "outputs": [
        {
          "output_type": "execute_result",
          "data": {
            "text/plain": [
              "{(1, 6), (2, 5), (3, 4), (4, 3), (5, 2), (6, 1)}"
            ]
          },
          "metadata": {},
          "execution_count": 75
        }
      ]
    },
    {
      "cell_type": "markdown",
      "source": [
        "Las tuplas son objetos que se escriben:\n",
        "$$(x_1, x_2, x_3, ..., x_n)$$"
      ],
      "metadata": {
        "id": "qPTWMDprI7cq"
      }
    },
    {
      "cell_type": "code",
      "source": [
        "type((1,2))"
      ],
      "metadata": {
        "colab": {
          "base_uri": "https://localhost:8080/"
        },
        "id": "La20lfvhJokf",
        "outputId": "07b0efb3-2b05-4592-ad37-ec5dd884951d"
      },
      "execution_count": null,
      "outputs": [
        {
          "output_type": "execute_result",
          "data": {
            "text/plain": [
              "tuple"
            ]
          },
          "metadata": {},
          "execution_count": 76
        }
      ]
    },
    {
      "cell_type": "code",
      "source": [
        "(1,2)[0]"
      ],
      "metadata": {
        "colab": {
          "base_uri": "https://localhost:8080/"
        },
        "id": "JtFGm_0OJ9QM",
        "outputId": "69c357d6-923a-4672-bbd9-c80978874772"
      },
      "execution_count": null,
      "outputs": [
        {
          "output_type": "execute_result",
          "data": {
            "text/plain": [
              "1"
            ]
          },
          "metadata": {},
          "execution_count": 77
        }
      ]
    },
    {
      "cell_type": "code",
      "source": [
        "from fractions import Fraction\n",
        "def P(A,Omega):\n",
        "  p = Fraction(len(A),len(Omega))\n",
        "  return p"
      ],
      "metadata": {
        "id": "B4G2s_gHLw3B"
      },
      "execution_count": null,
      "outputs": []
    },
    {
      "cell_type": "code",
      "source": [
        "6/36"
      ],
      "metadata": {
        "colab": {
          "base_uri": "https://localhost:8080/"
        },
        "id": "oiM7Y131Lvhg",
        "outputId": "9c5e9856-2330-4eb4-fbd6-05f95eb38e42"
      },
      "execution_count": null,
      "outputs": [
        {
          "output_type": "execute_result",
          "data": {
            "text/plain": [
              "0.16666666666666666"
            ]
          },
          "metadata": {},
          "execution_count": 79
        }
      ]
    },
    {
      "cell_type": "code",
      "source": [
        "P(S,Omega)"
      ],
      "metadata": {
        "colab": {
          "base_uri": "https://localhost:8080/"
        },
        "id": "iOPI4s5nMCVw",
        "outputId": "3727841f-fbce-4f6c-b1f5-a720456fa7c7"
      },
      "execution_count": null,
      "outputs": [
        {
          "output_type": "execute_result",
          "data": {
            "text/plain": [
              "Fraction(1, 6)"
            ]
          },
          "metadata": {},
          "execution_count": 80
        }
      ]
    },
    {
      "cell_type": "code",
      "source": [
        "def S(n):\n",
        "  S = {om for om in Omega  if (om[0] + om[1]) == n}\n",
        "  return S"
      ],
      "metadata": {
        "id": "ube1EmOFMwXz"
      },
      "execution_count": null,
      "outputs": []
    },
    {
      "cell_type": "code",
      "source": [
        "for i in range(2,13):\n",
        " print(S(i))\n"
      ],
      "metadata": {
        "colab": {
          "base_uri": "https://localhost:8080/"
        },
        "id": "fv5UQKbTM-A5",
        "outputId": "168fb573-5e9a-4956-ddf3-046f4e9c204a"
      },
      "execution_count": null,
      "outputs": [
        {
          "output_type": "stream",
          "name": "stdout",
          "text": [
            "{(1, 1)}\n",
            "{(1, 2), (2, 1)}\n",
            "{(3, 1), (1, 3), (2, 2)}\n",
            "{(2, 3), (3, 2), (4, 1), (1, 4)}\n",
            "{(2, 4), (1, 5), (5, 1), (4, 2), (3, 3)}\n",
            "{(3, 4), (4, 3), (6, 1), (1, 6), (2, 5), (5, 2)}\n",
            "{(4, 4), (6, 2), (2, 6), (5, 3), (3, 5)}\n",
            "{(4, 5), (5, 4), (6, 3), (3, 6)}\n",
            "{(4, 6), (6, 4), (5, 5)}\n",
            "{(5, 6), (6, 5)}\n",
            "{(6, 6)}\n"
          ]
        }
      ]
    },
    {
      "cell_type": "markdown",
      "source": [
        "Diccionarios"
      ],
      "metadata": {
        "id": "G2AtJq1HX1qE"
      }
    },
    {
      "cell_type": "code",
      "source": [
        "# Lanzan 100 monedas y cae águila con probabilidad 0.6\n",
        "np.random.seed(1)\n",
        "\n",
        "estudiantes = {\"Kevin\": np.random.binomial(100, 0.6, 10),\n",
        "               \"Marina\": np.random.binomial(100, 0.6, 10),\n",
        "               \"Alvaro\": np.random.binomial(100, 0.6, 10),\n",
        "               \"Roberto\": np.random.binomial(100, 0.6, 10),\n",
        "               \"Godo\": np.random.binomial(100, 0.6, 10),\n",
        "               \"Jaume\": np.random.binomial(100, 0.6, 10),\n",
        "               \"Marifer\": np.random.binomial(100, 0.6, 10),\n",
        "               \"Ceci\":np.random.binomial(100, 0.6, 10)}\n",
        "estudiantes"
      ],
      "metadata": {
        "colab": {
          "base_uri": "https://localhost:8080/"
        },
        "id": "w7_gezMKX3Kl",
        "outputId": "c0461828-28d8-4def-e5cd-e60ce9ad1581"
      },
      "execution_count": null,
      "outputs": [
        {
          "output_type": "execute_result",
          "data": {
            "text/plain": [
              "{'Kevin': array([62, 58, 59, 57, 63, 65, 67, 59, 59, 59]),\n",
              " 'Marina': array([63, 61, 57, 65, 61, 61, 48, 56, 65, 58]),\n",
              " 'Alvaro': array([64, 61, 61, 57, 63, 51, 63, 54, 49, 55]),\n",
              " 'Roberto': array([62, 65, 67, 65, 58, 51, 67, 58, 51, 64]),\n",
              " 'Godo': array([56, 60, 61, 60, 62, 53, 53, 68, 62, 60]),\n",
              " 'Jaume': array([60, 61, 62, 66, 62, 61, 61, 59, 57, 62]),\n",
              " 'Marifer': array([62, 58, 62, 55, 61, 61, 56, 62, 51, 51]),\n",
              " 'Ceci': array([56, 52, 60, 58, 61, 67, 59, 64, 61, 68])}"
            ]
          },
          "metadata": {},
          "execution_count": 83
        }
      ]
    },
    {
      "cell_type": "code",
      "source": [
        "import pandas as pd\n",
        "\n",
        "index = [1,2,3,4,5,6,7,8,9,10]\n",
        "df = pd.DataFrame(estudiantes, index = index )\n",
        "df"
      ],
      "metadata": {
        "colab": {
          "base_uri": "https://localhost:8080/",
          "height": 359
        },
        "id": "r7IM0VSSZauV",
        "outputId": "27bdea9d-7a3d-478c-8536-75b292c20996"
      },
      "execution_count": null,
      "outputs": [
        {
          "output_type": "execute_result",
          "data": {
            "text/plain": [
              "    Kevin  Marina  Alvaro  Roberto  Godo  Jaume  Marifer  Ceci\n",
              "1      62      63      64       62    56     60       62    56\n",
              "2      58      61      61       65    60     61       58    52\n",
              "3      59      57      61       67    61     62       62    60\n",
              "4      57      65      57       65    60     66       55    58\n",
              "5      63      61      63       58    62     62       61    61\n",
              "6      65      61      51       51    53     61       61    67\n",
              "7      67      48      63       67    53     61       56    59\n",
              "8      59      56      54       58    68     59       62    64\n",
              "9      59      65      49       51    62     57       51    61\n",
              "10     59      58      55       64    60     62       51    68"
            ],
            "text/html": [
              "\n",
              "  <div id=\"df-ef012085-29c7-4b25-a223-00403a2952ae\" class=\"colab-df-container\">\n",
              "    <div>\n",
              "<style scoped>\n",
              "    .dataframe tbody tr th:only-of-type {\n",
              "        vertical-align: middle;\n",
              "    }\n",
              "\n",
              "    .dataframe tbody tr th {\n",
              "        vertical-align: top;\n",
              "    }\n",
              "\n",
              "    .dataframe thead th {\n",
              "        text-align: right;\n",
              "    }\n",
              "</style>\n",
              "<table border=\"1\" class=\"dataframe\">\n",
              "  <thead>\n",
              "    <tr style=\"text-align: right;\">\n",
              "      <th></th>\n",
              "      <th>Kevin</th>\n",
              "      <th>Marina</th>\n",
              "      <th>Alvaro</th>\n",
              "      <th>Roberto</th>\n",
              "      <th>Godo</th>\n",
              "      <th>Jaume</th>\n",
              "      <th>Marifer</th>\n",
              "      <th>Ceci</th>\n",
              "    </tr>\n",
              "  </thead>\n",
              "  <tbody>\n",
              "    <tr>\n",
              "      <th>1</th>\n",
              "      <td>62</td>\n",
              "      <td>63</td>\n",
              "      <td>64</td>\n",
              "      <td>62</td>\n",
              "      <td>56</td>\n",
              "      <td>60</td>\n",
              "      <td>62</td>\n",
              "      <td>56</td>\n",
              "    </tr>\n",
              "    <tr>\n",
              "      <th>2</th>\n",
              "      <td>58</td>\n",
              "      <td>61</td>\n",
              "      <td>61</td>\n",
              "      <td>65</td>\n",
              "      <td>60</td>\n",
              "      <td>61</td>\n",
              "      <td>58</td>\n",
              "      <td>52</td>\n",
              "    </tr>\n",
              "    <tr>\n",
              "      <th>3</th>\n",
              "      <td>59</td>\n",
              "      <td>57</td>\n",
              "      <td>61</td>\n",
              "      <td>67</td>\n",
              "      <td>61</td>\n",
              "      <td>62</td>\n",
              "      <td>62</td>\n",
              "      <td>60</td>\n",
              "    </tr>\n",
              "    <tr>\n",
              "      <th>4</th>\n",
              "      <td>57</td>\n",
              "      <td>65</td>\n",
              "      <td>57</td>\n",
              "      <td>65</td>\n",
              "      <td>60</td>\n",
              "      <td>66</td>\n",
              "      <td>55</td>\n",
              "      <td>58</td>\n",
              "    </tr>\n",
              "    <tr>\n",
              "      <th>5</th>\n",
              "      <td>63</td>\n",
              "      <td>61</td>\n",
              "      <td>63</td>\n",
              "      <td>58</td>\n",
              "      <td>62</td>\n",
              "      <td>62</td>\n",
              "      <td>61</td>\n",
              "      <td>61</td>\n",
              "    </tr>\n",
              "    <tr>\n",
              "      <th>6</th>\n",
              "      <td>65</td>\n",
              "      <td>61</td>\n",
              "      <td>51</td>\n",
              "      <td>51</td>\n",
              "      <td>53</td>\n",
              "      <td>61</td>\n",
              "      <td>61</td>\n",
              "      <td>67</td>\n",
              "    </tr>\n",
              "    <tr>\n",
              "      <th>7</th>\n",
              "      <td>67</td>\n",
              "      <td>48</td>\n",
              "      <td>63</td>\n",
              "      <td>67</td>\n",
              "      <td>53</td>\n",
              "      <td>61</td>\n",
              "      <td>56</td>\n",
              "      <td>59</td>\n",
              "    </tr>\n",
              "    <tr>\n",
              "      <th>8</th>\n",
              "      <td>59</td>\n",
              "      <td>56</td>\n",
              "      <td>54</td>\n",
              "      <td>58</td>\n",
              "      <td>68</td>\n",
              "      <td>59</td>\n",
              "      <td>62</td>\n",
              "      <td>64</td>\n",
              "    </tr>\n",
              "    <tr>\n",
              "      <th>9</th>\n",
              "      <td>59</td>\n",
              "      <td>65</td>\n",
              "      <td>49</td>\n",
              "      <td>51</td>\n",
              "      <td>62</td>\n",
              "      <td>57</td>\n",
              "      <td>51</td>\n",
              "      <td>61</td>\n",
              "    </tr>\n",
              "    <tr>\n",
              "      <th>10</th>\n",
              "      <td>59</td>\n",
              "      <td>58</td>\n",
              "      <td>55</td>\n",
              "      <td>64</td>\n",
              "      <td>60</td>\n",
              "      <td>62</td>\n",
              "      <td>51</td>\n",
              "      <td>68</td>\n",
              "    </tr>\n",
              "  </tbody>\n",
              "</table>\n",
              "</div>\n",
              "    <div class=\"colab-df-buttons\">\n",
              "\n",
              "  <div class=\"colab-df-container\">\n",
              "    <button class=\"colab-df-convert\" onclick=\"convertToInteractive('df-ef012085-29c7-4b25-a223-00403a2952ae')\"\n",
              "            title=\"Convert this dataframe to an interactive table.\"\n",
              "            style=\"display:none;\">\n",
              "\n",
              "  <svg xmlns=\"http://www.w3.org/2000/svg\" height=\"24px\" viewBox=\"0 -960 960 960\">\n",
              "    <path d=\"M120-120v-720h720v720H120Zm60-500h600v-160H180v160Zm220 220h160v-160H400v160Zm0 220h160v-160H400v160ZM180-400h160v-160H180v160Zm440 0h160v-160H620v160ZM180-180h160v-160H180v160Zm440 0h160v-160H620v160Z\"/>\n",
              "  </svg>\n",
              "    </button>\n",
              "\n",
              "  <style>\n",
              "    .colab-df-container {\n",
              "      display:flex;\n",
              "      gap: 12px;\n",
              "    }\n",
              "\n",
              "    .colab-df-convert {\n",
              "      background-color: #E8F0FE;\n",
              "      border: none;\n",
              "      border-radius: 50%;\n",
              "      cursor: pointer;\n",
              "      display: none;\n",
              "      fill: #1967D2;\n",
              "      height: 32px;\n",
              "      padding: 0 0 0 0;\n",
              "      width: 32px;\n",
              "    }\n",
              "\n",
              "    .colab-df-convert:hover {\n",
              "      background-color: #E2EBFA;\n",
              "      box-shadow: 0px 1px 2px rgba(60, 64, 67, 0.3), 0px 1px 3px 1px rgba(60, 64, 67, 0.15);\n",
              "      fill: #174EA6;\n",
              "    }\n",
              "\n",
              "    .colab-df-buttons div {\n",
              "      margin-bottom: 4px;\n",
              "    }\n",
              "\n",
              "    [theme=dark] .colab-df-convert {\n",
              "      background-color: #3B4455;\n",
              "      fill: #D2E3FC;\n",
              "    }\n",
              "\n",
              "    [theme=dark] .colab-df-convert:hover {\n",
              "      background-color: #434B5C;\n",
              "      box-shadow: 0px 1px 3px 1px rgba(0, 0, 0, 0.15);\n",
              "      filter: drop-shadow(0px 1px 2px rgba(0, 0, 0, 0.3));\n",
              "      fill: #FFFFFF;\n",
              "    }\n",
              "  </style>\n",
              "\n",
              "    <script>\n",
              "      const buttonEl =\n",
              "        document.querySelector('#df-ef012085-29c7-4b25-a223-00403a2952ae button.colab-df-convert');\n",
              "      buttonEl.style.display =\n",
              "        google.colab.kernel.accessAllowed ? 'block' : 'none';\n",
              "\n",
              "      async function convertToInteractive(key) {\n",
              "        const element = document.querySelector('#df-ef012085-29c7-4b25-a223-00403a2952ae');\n",
              "        const dataTable =\n",
              "          await google.colab.kernel.invokeFunction('convertToInteractive',\n",
              "                                                    [key], {});\n",
              "        if (!dataTable) return;\n",
              "\n",
              "        const docLinkHtml = 'Like what you see? Visit the ' +\n",
              "          '<a target=\"_blank\" href=https://colab.research.google.com/notebooks/data_table.ipynb>data table notebook</a>'\n",
              "          + ' to learn more about interactive tables.';\n",
              "        element.innerHTML = '';\n",
              "        dataTable['output_type'] = 'display_data';\n",
              "        await google.colab.output.renderOutput(dataTable, element);\n",
              "        const docLink = document.createElement('div');\n",
              "        docLink.innerHTML = docLinkHtml;\n",
              "        element.appendChild(docLink);\n",
              "      }\n",
              "    </script>\n",
              "  </div>\n",
              "\n",
              "\n",
              "<div id=\"df-738a1924-f9e4-4339-b892-4dccc966eb5b\">\n",
              "  <button class=\"colab-df-quickchart\" onclick=\"quickchart('df-738a1924-f9e4-4339-b892-4dccc966eb5b')\"\n",
              "            title=\"Suggest charts\"\n",
              "            style=\"display:none;\">\n",
              "\n",
              "<svg xmlns=\"http://www.w3.org/2000/svg\" height=\"24px\"viewBox=\"0 0 24 24\"\n",
              "     width=\"24px\">\n",
              "    <g>\n",
              "        <path d=\"M19 3H5c-1.1 0-2 .9-2 2v14c0 1.1.9 2 2 2h14c1.1 0 2-.9 2-2V5c0-1.1-.9-2-2-2zM9 17H7v-7h2v7zm4 0h-2V7h2v10zm4 0h-2v-4h2v4z\"/>\n",
              "    </g>\n",
              "</svg>\n",
              "  </button>\n",
              "\n",
              "<style>\n",
              "  .colab-df-quickchart {\n",
              "      --bg-color: #E8F0FE;\n",
              "      --fill-color: #1967D2;\n",
              "      --hover-bg-color: #E2EBFA;\n",
              "      --hover-fill-color: #174EA6;\n",
              "      --disabled-fill-color: #AAA;\n",
              "      --disabled-bg-color: #DDD;\n",
              "  }\n",
              "\n",
              "  [theme=dark] .colab-df-quickchart {\n",
              "      --bg-color: #3B4455;\n",
              "      --fill-color: #D2E3FC;\n",
              "      --hover-bg-color: #434B5C;\n",
              "      --hover-fill-color: #FFFFFF;\n",
              "      --disabled-bg-color: #3B4455;\n",
              "      --disabled-fill-color: #666;\n",
              "  }\n",
              "\n",
              "  .colab-df-quickchart {\n",
              "    background-color: var(--bg-color);\n",
              "    border: none;\n",
              "    border-radius: 50%;\n",
              "    cursor: pointer;\n",
              "    display: none;\n",
              "    fill: var(--fill-color);\n",
              "    height: 32px;\n",
              "    padding: 0;\n",
              "    width: 32px;\n",
              "  }\n",
              "\n",
              "  .colab-df-quickchart:hover {\n",
              "    background-color: var(--hover-bg-color);\n",
              "    box-shadow: 0 1px 2px rgba(60, 64, 67, 0.3), 0 1px 3px 1px rgba(60, 64, 67, 0.15);\n",
              "    fill: var(--button-hover-fill-color);\n",
              "  }\n",
              "\n",
              "  .colab-df-quickchart-complete:disabled,\n",
              "  .colab-df-quickchart-complete:disabled:hover {\n",
              "    background-color: var(--disabled-bg-color);\n",
              "    fill: var(--disabled-fill-color);\n",
              "    box-shadow: none;\n",
              "  }\n",
              "\n",
              "  .colab-df-spinner {\n",
              "    border: 2px solid var(--fill-color);\n",
              "    border-color: transparent;\n",
              "    border-bottom-color: var(--fill-color);\n",
              "    animation:\n",
              "      spin 1s steps(1) infinite;\n",
              "  }\n",
              "\n",
              "  @keyframes spin {\n",
              "    0% {\n",
              "      border-color: transparent;\n",
              "      border-bottom-color: var(--fill-color);\n",
              "      border-left-color: var(--fill-color);\n",
              "    }\n",
              "    20% {\n",
              "      border-color: transparent;\n",
              "      border-left-color: var(--fill-color);\n",
              "      border-top-color: var(--fill-color);\n",
              "    }\n",
              "    30% {\n",
              "      border-color: transparent;\n",
              "      border-left-color: var(--fill-color);\n",
              "      border-top-color: var(--fill-color);\n",
              "      border-right-color: var(--fill-color);\n",
              "    }\n",
              "    40% {\n",
              "      border-color: transparent;\n",
              "      border-right-color: var(--fill-color);\n",
              "      border-top-color: var(--fill-color);\n",
              "    }\n",
              "    60% {\n",
              "      border-color: transparent;\n",
              "      border-right-color: var(--fill-color);\n",
              "    }\n",
              "    80% {\n",
              "      border-color: transparent;\n",
              "      border-right-color: var(--fill-color);\n",
              "      border-bottom-color: var(--fill-color);\n",
              "    }\n",
              "    90% {\n",
              "      border-color: transparent;\n",
              "      border-bottom-color: var(--fill-color);\n",
              "    }\n",
              "  }\n",
              "</style>\n",
              "\n",
              "  <script>\n",
              "    async function quickchart(key) {\n",
              "      const quickchartButtonEl =\n",
              "        document.querySelector('#' + key + ' button');\n",
              "      quickchartButtonEl.disabled = true;  // To prevent multiple clicks.\n",
              "      quickchartButtonEl.classList.add('colab-df-spinner');\n",
              "      try {\n",
              "        const charts = await google.colab.kernel.invokeFunction(\n",
              "            'suggestCharts', [key], {});\n",
              "      } catch (error) {\n",
              "        console.error('Error during call to suggestCharts:', error);\n",
              "      }\n",
              "      quickchartButtonEl.classList.remove('colab-df-spinner');\n",
              "      quickchartButtonEl.classList.add('colab-df-quickchart-complete');\n",
              "    }\n",
              "    (() => {\n",
              "      let quickchartButtonEl =\n",
              "        document.querySelector('#df-738a1924-f9e4-4339-b892-4dccc966eb5b button');\n",
              "      quickchartButtonEl.style.display =\n",
              "        google.colab.kernel.accessAllowed ? 'block' : 'none';\n",
              "    })();\n",
              "  </script>\n",
              "</div>\n",
              "\n",
              "  <div id=\"id_0caecb4b-3ae2-4743-8cc6-87cdf25f6e6c\">\n",
              "    <style>\n",
              "      .colab-df-generate {\n",
              "        background-color: #E8F0FE;\n",
              "        border: none;\n",
              "        border-radius: 50%;\n",
              "        cursor: pointer;\n",
              "        display: none;\n",
              "        fill: #1967D2;\n",
              "        height: 32px;\n",
              "        padding: 0 0 0 0;\n",
              "        width: 32px;\n",
              "      }\n",
              "\n",
              "      .colab-df-generate:hover {\n",
              "        background-color: #E2EBFA;\n",
              "        box-shadow: 0px 1px 2px rgba(60, 64, 67, 0.3), 0px 1px 3px 1px rgba(60, 64, 67, 0.15);\n",
              "        fill: #174EA6;\n",
              "      }\n",
              "\n",
              "      [theme=dark] .colab-df-generate {\n",
              "        background-color: #3B4455;\n",
              "        fill: #D2E3FC;\n",
              "      }\n",
              "\n",
              "      [theme=dark] .colab-df-generate:hover {\n",
              "        background-color: #434B5C;\n",
              "        box-shadow: 0px 1px 3px 1px rgba(0, 0, 0, 0.15);\n",
              "        filter: drop-shadow(0px 1px 2px rgba(0, 0, 0, 0.3));\n",
              "        fill: #FFFFFF;\n",
              "      }\n",
              "    </style>\n",
              "    <button class=\"colab-df-generate\" onclick=\"generateWithVariable('df')\"\n",
              "            title=\"Generate code using this dataframe.\"\n",
              "            style=\"display:none;\">\n",
              "\n",
              "  <svg xmlns=\"http://www.w3.org/2000/svg\" height=\"24px\"viewBox=\"0 0 24 24\"\n",
              "       width=\"24px\">\n",
              "    <path d=\"M7,19H8.4L18.45,9,17,7.55,7,17.6ZM5,21V16.75L18.45,3.32a2,2,0,0,1,2.83,0l1.4,1.43a1.91,1.91,0,0,1,.58,1.4,1.91,1.91,0,0,1-.58,1.4L9.25,21ZM18.45,9,17,7.55Zm-12,3A5.31,5.31,0,0,0,4.9,8.1,5.31,5.31,0,0,0,1,6.5,5.31,5.31,0,0,0,4.9,4.9,5.31,5.31,0,0,0,6.5,1,5.31,5.31,0,0,0,8.1,4.9,5.31,5.31,0,0,0,12,6.5,5.46,5.46,0,0,0,6.5,12Z\"/>\n",
              "  </svg>\n",
              "    </button>\n",
              "    <script>\n",
              "      (() => {\n",
              "      const buttonEl =\n",
              "        document.querySelector('#id_0caecb4b-3ae2-4743-8cc6-87cdf25f6e6c button.colab-df-generate');\n",
              "      buttonEl.style.display =\n",
              "        google.colab.kernel.accessAllowed ? 'block' : 'none';\n",
              "\n",
              "      buttonEl.onclick = () => {\n",
              "        google.colab.notebook.generateWithVariable('df');\n",
              "      }\n",
              "      })();\n",
              "    </script>\n",
              "  </div>\n",
              "\n",
              "    </div>\n",
              "  </div>\n"
            ],
            "application/vnd.google.colaboratory.intrinsic+json": {
              "type": "dataframe",
              "variable_name": "df",
              "summary": "{\n  \"name\": \"df\",\n  \"rows\": 10,\n  \"fields\": [\n    {\n      \"column\": \"Kevin\",\n      \"properties\": {\n        \"dtype\": \"number\",\n        \"std\": 3,\n        \"min\": 57,\n        \"max\": 67,\n        \"num_unique_values\": 7,\n        \"samples\": [\n          62,\n          58,\n          65\n        ],\n        \"semantic_type\": \"\",\n        \"description\": \"\"\n      }\n    },\n    {\n      \"column\": \"Marina\",\n      \"properties\": {\n        \"dtype\": \"number\",\n        \"std\": 5,\n        \"min\": 48,\n        \"max\": 65,\n        \"num_unique_values\": 7,\n        \"samples\": [\n          63,\n          61,\n          56\n        ],\n        \"semantic_type\": \"\",\n        \"description\": \"\"\n      }\n    },\n    {\n      \"column\": \"Alvaro\",\n      \"properties\": {\n        \"dtype\": \"number\",\n        \"std\": 5,\n        \"min\": 49,\n        \"max\": 64,\n        \"num_unique_values\": 8,\n        \"samples\": [\n          61,\n          54,\n          64\n        ],\n        \"semantic_type\": \"\",\n        \"description\": \"\"\n      }\n    },\n    {\n      \"column\": \"Roberto\",\n      \"properties\": {\n        \"dtype\": \"number\",\n        \"std\": 6,\n        \"min\": 51,\n        \"max\": 67,\n        \"num_unique_values\": 6,\n        \"samples\": [\n          62,\n          65,\n          64\n        ],\n        \"semantic_type\": \"\",\n        \"description\": \"\"\n      }\n    },\n    {\n      \"column\": \"Godo\",\n      \"properties\": {\n        \"dtype\": \"number\",\n        \"std\": 4,\n        \"min\": 53,\n        \"max\": 68,\n        \"num_unique_values\": 6,\n        \"samples\": [\n          56,\n          60,\n          68\n        ],\n        \"semantic_type\": \"\",\n        \"description\": \"\"\n      }\n    },\n    {\n      \"column\": \"Jaume\",\n      \"properties\": {\n        \"dtype\": \"number\",\n        \"std\": 2,\n        \"min\": 57,\n        \"max\": 66,\n        \"num_unique_values\": 6,\n        \"samples\": [\n          60,\n          61,\n          57\n        ],\n        \"semantic_type\": \"\",\n        \"description\": \"\"\n      }\n    },\n    {\n      \"column\": \"Marifer\",\n      \"properties\": {\n        \"dtype\": \"number\",\n        \"std\": 4,\n        \"min\": 51,\n        \"max\": 62,\n        \"num_unique_values\": 6,\n        \"samples\": [\n          62,\n          58,\n          51\n        ],\n        \"semantic_type\": \"\",\n        \"description\": \"\"\n      }\n    },\n    {\n      \"column\": \"Ceci\",\n      \"properties\": {\n        \"dtype\": \"number\",\n        \"std\": 4,\n        \"min\": 52,\n        \"max\": 68,\n        \"num_unique_values\": 9,\n        \"samples\": [\n          64,\n          52,\n          67\n        ],\n        \"semantic_type\": \"\",\n        \"description\": \"\"\n      }\n    }\n  ]\n}"
            }
          },
          "metadata": {},
          "execution_count": 84
        }
      ]
    },
    {
      "cell_type": "code",
      "source": [
        "df.iloc[2][\"Kevin\"]"
      ],
      "metadata": {
        "colab": {
          "base_uri": "https://localhost:8080/"
        },
        "id": "vJ7CMlNZbnz_",
        "outputId": "2dc1c8f3-d099-4d2a-8c62-6957ca6aec38"
      },
      "execution_count": null,
      "outputs": [
        {
          "output_type": "execute_result",
          "data": {
            "text/plain": [
              "59"
            ]
          },
          "metadata": {},
          "execution_count": 85
        }
      ]
    },
    {
      "cell_type": "code",
      "source": [
        "# ¿Cómo puedo elegir que número salió en 3 lanzamientos?\n",
        "\n",
        "df[\"Kevin\"][3]"
      ],
      "metadata": {
        "colab": {
          "base_uri": "https://localhost:8080/"
        },
        "id": "kCzGL3QmbCJS",
        "outputId": "e6b97525-31f5-4fb7-db97-32955d014704"
      },
      "execution_count": null,
      "outputs": [
        {
          "output_type": "execute_result",
          "data": {
            "text/plain": [
              "59"
            ]
          },
          "metadata": {},
          "execution_count": 86
        }
      ]
    },
    {
      "cell_type": "code",
      "source": [
        "dic = { i : P(S(i), Omega) for i in range(2,13)}\n",
        "dic"
      ],
      "metadata": {
        "colab": {
          "base_uri": "https://localhost:8080/"
        },
        "id": "NjdlaL1Ccm9m",
        "outputId": "329b5257-09bc-4b22-ce1e-f3ceaf12e507"
      },
      "execution_count": null,
      "outputs": [
        {
          "output_type": "execute_result",
          "data": {
            "text/plain": [
              "{2: Fraction(1, 36),\n",
              " 3: Fraction(1, 18),\n",
              " 4: Fraction(1, 12),\n",
              " 5: Fraction(1, 9),\n",
              " 6: Fraction(5, 36),\n",
              " 7: Fraction(1, 6),\n",
              " 8: Fraction(5, 36),\n",
              " 9: Fraction(1, 9),\n",
              " 10: Fraction(1, 12),\n",
              " 11: Fraction(1, 18),\n",
              " 12: Fraction(1, 36)}"
            ]
          },
          "metadata": {},
          "execution_count": 87
        }
      ]
    },
    {
      "cell_type": "code",
      "source": [
        "descriptive = df.describe()\n",
        "descriptive"
      ],
      "metadata": {
        "colab": {
          "base_uri": "https://localhost:8080/",
          "height": 297
        },
        "id": "BsaUN6iqe2xc",
        "outputId": "2c5060b9-caef-49ea-8f42-8e65ea4c75b4"
      },
      "execution_count": null,
      "outputs": [
        {
          "output_type": "execute_result",
          "data": {
            "text/plain": [
              "          Kevin    Marina     Alvaro    Roberto       Godo      Jaume  \\\n",
              "count  10.00000  10.00000  10.000000  10.000000  10.000000  10.000000   \n",
              "mean   60.80000  59.50000  57.800000  60.800000  59.500000  61.100000   \n",
              "std     3.29309   5.08265   5.370702   6.069962   4.527693   2.330951   \n",
              "min    57.00000  48.00000  49.000000  51.000000  53.000000  57.000000   \n",
              "25%    59.00000  57.25000  54.250000  58.000000  57.000000  60.250000   \n",
              "50%    59.00000  61.00000  59.000000  63.000000  60.000000  61.000000   \n",
              "75%    62.75000  62.50000  62.500000  65.000000  61.750000  62.000000   \n",
              "max    67.00000  65.00000  64.000000  67.000000  68.000000  66.000000   \n",
              "\n",
              "         Marifer       Ceci  \n",
              "count  10.000000  10.000000  \n",
              "mean   57.900000  60.600000  \n",
              "std     4.433459   4.857983  \n",
              "min    51.000000  52.000000  \n",
              "25%    55.250000  58.250000  \n",
              "50%    59.500000  60.500000  \n",
              "75%    61.750000  63.250000  \n",
              "max    62.000000  68.000000  "
            ],
            "text/html": [
              "\n",
              "  <div id=\"df-82a8319c-2161-4afa-b2d3-880cdcded3c0\" class=\"colab-df-container\">\n",
              "    <div>\n",
              "<style scoped>\n",
              "    .dataframe tbody tr th:only-of-type {\n",
              "        vertical-align: middle;\n",
              "    }\n",
              "\n",
              "    .dataframe tbody tr th {\n",
              "        vertical-align: top;\n",
              "    }\n",
              "\n",
              "    .dataframe thead th {\n",
              "        text-align: right;\n",
              "    }\n",
              "</style>\n",
              "<table border=\"1\" class=\"dataframe\">\n",
              "  <thead>\n",
              "    <tr style=\"text-align: right;\">\n",
              "      <th></th>\n",
              "      <th>Kevin</th>\n",
              "      <th>Marina</th>\n",
              "      <th>Alvaro</th>\n",
              "      <th>Roberto</th>\n",
              "      <th>Godo</th>\n",
              "      <th>Jaume</th>\n",
              "      <th>Marifer</th>\n",
              "      <th>Ceci</th>\n",
              "    </tr>\n",
              "  </thead>\n",
              "  <tbody>\n",
              "    <tr>\n",
              "      <th>count</th>\n",
              "      <td>10.00000</td>\n",
              "      <td>10.00000</td>\n",
              "      <td>10.000000</td>\n",
              "      <td>10.000000</td>\n",
              "      <td>10.000000</td>\n",
              "      <td>10.000000</td>\n",
              "      <td>10.000000</td>\n",
              "      <td>10.000000</td>\n",
              "    </tr>\n",
              "    <tr>\n",
              "      <th>mean</th>\n",
              "      <td>60.80000</td>\n",
              "      <td>59.50000</td>\n",
              "      <td>57.800000</td>\n",
              "      <td>60.800000</td>\n",
              "      <td>59.500000</td>\n",
              "      <td>61.100000</td>\n",
              "      <td>57.900000</td>\n",
              "      <td>60.600000</td>\n",
              "    </tr>\n",
              "    <tr>\n",
              "      <th>std</th>\n",
              "      <td>3.29309</td>\n",
              "      <td>5.08265</td>\n",
              "      <td>5.370702</td>\n",
              "      <td>6.069962</td>\n",
              "      <td>4.527693</td>\n",
              "      <td>2.330951</td>\n",
              "      <td>4.433459</td>\n",
              "      <td>4.857983</td>\n",
              "    </tr>\n",
              "    <tr>\n",
              "      <th>min</th>\n",
              "      <td>57.00000</td>\n",
              "      <td>48.00000</td>\n",
              "      <td>49.000000</td>\n",
              "      <td>51.000000</td>\n",
              "      <td>53.000000</td>\n",
              "      <td>57.000000</td>\n",
              "      <td>51.000000</td>\n",
              "      <td>52.000000</td>\n",
              "    </tr>\n",
              "    <tr>\n",
              "      <th>25%</th>\n",
              "      <td>59.00000</td>\n",
              "      <td>57.25000</td>\n",
              "      <td>54.250000</td>\n",
              "      <td>58.000000</td>\n",
              "      <td>57.000000</td>\n",
              "      <td>60.250000</td>\n",
              "      <td>55.250000</td>\n",
              "      <td>58.250000</td>\n",
              "    </tr>\n",
              "    <tr>\n",
              "      <th>50%</th>\n",
              "      <td>59.00000</td>\n",
              "      <td>61.00000</td>\n",
              "      <td>59.000000</td>\n",
              "      <td>63.000000</td>\n",
              "      <td>60.000000</td>\n",
              "      <td>61.000000</td>\n",
              "      <td>59.500000</td>\n",
              "      <td>60.500000</td>\n",
              "    </tr>\n",
              "    <tr>\n",
              "      <th>75%</th>\n",
              "      <td>62.75000</td>\n",
              "      <td>62.50000</td>\n",
              "      <td>62.500000</td>\n",
              "      <td>65.000000</td>\n",
              "      <td>61.750000</td>\n",
              "      <td>62.000000</td>\n",
              "      <td>61.750000</td>\n",
              "      <td>63.250000</td>\n",
              "    </tr>\n",
              "    <tr>\n",
              "      <th>max</th>\n",
              "      <td>67.00000</td>\n",
              "      <td>65.00000</td>\n",
              "      <td>64.000000</td>\n",
              "      <td>67.000000</td>\n",
              "      <td>68.000000</td>\n",
              "      <td>66.000000</td>\n",
              "      <td>62.000000</td>\n",
              "      <td>68.000000</td>\n",
              "    </tr>\n",
              "  </tbody>\n",
              "</table>\n",
              "</div>\n",
              "    <div class=\"colab-df-buttons\">\n",
              "\n",
              "  <div class=\"colab-df-container\">\n",
              "    <button class=\"colab-df-convert\" onclick=\"convertToInteractive('df-82a8319c-2161-4afa-b2d3-880cdcded3c0')\"\n",
              "            title=\"Convert this dataframe to an interactive table.\"\n",
              "            style=\"display:none;\">\n",
              "\n",
              "  <svg xmlns=\"http://www.w3.org/2000/svg\" height=\"24px\" viewBox=\"0 -960 960 960\">\n",
              "    <path d=\"M120-120v-720h720v720H120Zm60-500h600v-160H180v160Zm220 220h160v-160H400v160Zm0 220h160v-160H400v160ZM180-400h160v-160H180v160Zm440 0h160v-160H620v160ZM180-180h160v-160H180v160Zm440 0h160v-160H620v160Z\"/>\n",
              "  </svg>\n",
              "    </button>\n",
              "\n",
              "  <style>\n",
              "    .colab-df-container {\n",
              "      display:flex;\n",
              "      gap: 12px;\n",
              "    }\n",
              "\n",
              "    .colab-df-convert {\n",
              "      background-color: #E8F0FE;\n",
              "      border: none;\n",
              "      border-radius: 50%;\n",
              "      cursor: pointer;\n",
              "      display: none;\n",
              "      fill: #1967D2;\n",
              "      height: 32px;\n",
              "      padding: 0 0 0 0;\n",
              "      width: 32px;\n",
              "    }\n",
              "\n",
              "    .colab-df-convert:hover {\n",
              "      background-color: #E2EBFA;\n",
              "      box-shadow: 0px 1px 2px rgba(60, 64, 67, 0.3), 0px 1px 3px 1px rgba(60, 64, 67, 0.15);\n",
              "      fill: #174EA6;\n",
              "    }\n",
              "\n",
              "    .colab-df-buttons div {\n",
              "      margin-bottom: 4px;\n",
              "    }\n",
              "\n",
              "    [theme=dark] .colab-df-convert {\n",
              "      background-color: #3B4455;\n",
              "      fill: #D2E3FC;\n",
              "    }\n",
              "\n",
              "    [theme=dark] .colab-df-convert:hover {\n",
              "      background-color: #434B5C;\n",
              "      box-shadow: 0px 1px 3px 1px rgba(0, 0, 0, 0.15);\n",
              "      filter: drop-shadow(0px 1px 2px rgba(0, 0, 0, 0.3));\n",
              "      fill: #FFFFFF;\n",
              "    }\n",
              "  </style>\n",
              "\n",
              "    <script>\n",
              "      const buttonEl =\n",
              "        document.querySelector('#df-82a8319c-2161-4afa-b2d3-880cdcded3c0 button.colab-df-convert');\n",
              "      buttonEl.style.display =\n",
              "        google.colab.kernel.accessAllowed ? 'block' : 'none';\n",
              "\n",
              "      async function convertToInteractive(key) {\n",
              "        const element = document.querySelector('#df-82a8319c-2161-4afa-b2d3-880cdcded3c0');\n",
              "        const dataTable =\n",
              "          await google.colab.kernel.invokeFunction('convertToInteractive',\n",
              "                                                    [key], {});\n",
              "        if (!dataTable) return;\n",
              "\n",
              "        const docLinkHtml = 'Like what you see? Visit the ' +\n",
              "          '<a target=\"_blank\" href=https://colab.research.google.com/notebooks/data_table.ipynb>data table notebook</a>'\n",
              "          + ' to learn more about interactive tables.';\n",
              "        element.innerHTML = '';\n",
              "        dataTable['output_type'] = 'display_data';\n",
              "        await google.colab.output.renderOutput(dataTable, element);\n",
              "        const docLink = document.createElement('div');\n",
              "        docLink.innerHTML = docLinkHtml;\n",
              "        element.appendChild(docLink);\n",
              "      }\n",
              "    </script>\n",
              "  </div>\n",
              "\n",
              "\n",
              "<div id=\"df-945d76ea-3d15-4e7a-a66e-0b7c3676dbd3\">\n",
              "  <button class=\"colab-df-quickchart\" onclick=\"quickchart('df-945d76ea-3d15-4e7a-a66e-0b7c3676dbd3')\"\n",
              "            title=\"Suggest charts\"\n",
              "            style=\"display:none;\">\n",
              "\n",
              "<svg xmlns=\"http://www.w3.org/2000/svg\" height=\"24px\"viewBox=\"0 0 24 24\"\n",
              "     width=\"24px\">\n",
              "    <g>\n",
              "        <path d=\"M19 3H5c-1.1 0-2 .9-2 2v14c0 1.1.9 2 2 2h14c1.1 0 2-.9 2-2V5c0-1.1-.9-2-2-2zM9 17H7v-7h2v7zm4 0h-2V7h2v10zm4 0h-2v-4h2v4z\"/>\n",
              "    </g>\n",
              "</svg>\n",
              "  </button>\n",
              "\n",
              "<style>\n",
              "  .colab-df-quickchart {\n",
              "      --bg-color: #E8F0FE;\n",
              "      --fill-color: #1967D2;\n",
              "      --hover-bg-color: #E2EBFA;\n",
              "      --hover-fill-color: #174EA6;\n",
              "      --disabled-fill-color: #AAA;\n",
              "      --disabled-bg-color: #DDD;\n",
              "  }\n",
              "\n",
              "  [theme=dark] .colab-df-quickchart {\n",
              "      --bg-color: #3B4455;\n",
              "      --fill-color: #D2E3FC;\n",
              "      --hover-bg-color: #434B5C;\n",
              "      --hover-fill-color: #FFFFFF;\n",
              "      --disabled-bg-color: #3B4455;\n",
              "      --disabled-fill-color: #666;\n",
              "  }\n",
              "\n",
              "  .colab-df-quickchart {\n",
              "    background-color: var(--bg-color);\n",
              "    border: none;\n",
              "    border-radius: 50%;\n",
              "    cursor: pointer;\n",
              "    display: none;\n",
              "    fill: var(--fill-color);\n",
              "    height: 32px;\n",
              "    padding: 0;\n",
              "    width: 32px;\n",
              "  }\n",
              "\n",
              "  .colab-df-quickchart:hover {\n",
              "    background-color: var(--hover-bg-color);\n",
              "    box-shadow: 0 1px 2px rgba(60, 64, 67, 0.3), 0 1px 3px 1px rgba(60, 64, 67, 0.15);\n",
              "    fill: var(--button-hover-fill-color);\n",
              "  }\n",
              "\n",
              "  .colab-df-quickchart-complete:disabled,\n",
              "  .colab-df-quickchart-complete:disabled:hover {\n",
              "    background-color: var(--disabled-bg-color);\n",
              "    fill: var(--disabled-fill-color);\n",
              "    box-shadow: none;\n",
              "  }\n",
              "\n",
              "  .colab-df-spinner {\n",
              "    border: 2px solid var(--fill-color);\n",
              "    border-color: transparent;\n",
              "    border-bottom-color: var(--fill-color);\n",
              "    animation:\n",
              "      spin 1s steps(1) infinite;\n",
              "  }\n",
              "\n",
              "  @keyframes spin {\n",
              "    0% {\n",
              "      border-color: transparent;\n",
              "      border-bottom-color: var(--fill-color);\n",
              "      border-left-color: var(--fill-color);\n",
              "    }\n",
              "    20% {\n",
              "      border-color: transparent;\n",
              "      border-left-color: var(--fill-color);\n",
              "      border-top-color: var(--fill-color);\n",
              "    }\n",
              "    30% {\n",
              "      border-color: transparent;\n",
              "      border-left-color: var(--fill-color);\n",
              "      border-top-color: var(--fill-color);\n",
              "      border-right-color: var(--fill-color);\n",
              "    }\n",
              "    40% {\n",
              "      border-color: transparent;\n",
              "      border-right-color: var(--fill-color);\n",
              "      border-top-color: var(--fill-color);\n",
              "    }\n",
              "    60% {\n",
              "      border-color: transparent;\n",
              "      border-right-color: var(--fill-color);\n",
              "    }\n",
              "    80% {\n",
              "      border-color: transparent;\n",
              "      border-right-color: var(--fill-color);\n",
              "      border-bottom-color: var(--fill-color);\n",
              "    }\n",
              "    90% {\n",
              "      border-color: transparent;\n",
              "      border-bottom-color: var(--fill-color);\n",
              "    }\n",
              "  }\n",
              "</style>\n",
              "\n",
              "  <script>\n",
              "    async function quickchart(key) {\n",
              "      const quickchartButtonEl =\n",
              "        document.querySelector('#' + key + ' button');\n",
              "      quickchartButtonEl.disabled = true;  // To prevent multiple clicks.\n",
              "      quickchartButtonEl.classList.add('colab-df-spinner');\n",
              "      try {\n",
              "        const charts = await google.colab.kernel.invokeFunction(\n",
              "            'suggestCharts', [key], {});\n",
              "      } catch (error) {\n",
              "        console.error('Error during call to suggestCharts:', error);\n",
              "      }\n",
              "      quickchartButtonEl.classList.remove('colab-df-spinner');\n",
              "      quickchartButtonEl.classList.add('colab-df-quickchart-complete');\n",
              "    }\n",
              "    (() => {\n",
              "      let quickchartButtonEl =\n",
              "        document.querySelector('#df-945d76ea-3d15-4e7a-a66e-0b7c3676dbd3 button');\n",
              "      quickchartButtonEl.style.display =\n",
              "        google.colab.kernel.accessAllowed ? 'block' : 'none';\n",
              "    })();\n",
              "  </script>\n",
              "</div>\n",
              "\n",
              "  <div id=\"id_03fc7af5-9b8f-4548-8bb2-aa765c7c11e9\">\n",
              "    <style>\n",
              "      .colab-df-generate {\n",
              "        background-color: #E8F0FE;\n",
              "        border: none;\n",
              "        border-radius: 50%;\n",
              "        cursor: pointer;\n",
              "        display: none;\n",
              "        fill: #1967D2;\n",
              "        height: 32px;\n",
              "        padding: 0 0 0 0;\n",
              "        width: 32px;\n",
              "      }\n",
              "\n",
              "      .colab-df-generate:hover {\n",
              "        background-color: #E2EBFA;\n",
              "        box-shadow: 0px 1px 2px rgba(60, 64, 67, 0.3), 0px 1px 3px 1px rgba(60, 64, 67, 0.15);\n",
              "        fill: #174EA6;\n",
              "      }\n",
              "\n",
              "      [theme=dark] .colab-df-generate {\n",
              "        background-color: #3B4455;\n",
              "        fill: #D2E3FC;\n",
              "      }\n",
              "\n",
              "      [theme=dark] .colab-df-generate:hover {\n",
              "        background-color: #434B5C;\n",
              "        box-shadow: 0px 1px 3px 1px rgba(0, 0, 0, 0.15);\n",
              "        filter: drop-shadow(0px 1px 2px rgba(0, 0, 0, 0.3));\n",
              "        fill: #FFFFFF;\n",
              "      }\n",
              "    </style>\n",
              "    <button class=\"colab-df-generate\" onclick=\"generateWithVariable('descriptive')\"\n",
              "            title=\"Generate code using this dataframe.\"\n",
              "            style=\"display:none;\">\n",
              "\n",
              "  <svg xmlns=\"http://www.w3.org/2000/svg\" height=\"24px\"viewBox=\"0 0 24 24\"\n",
              "       width=\"24px\">\n",
              "    <path d=\"M7,19H8.4L18.45,9,17,7.55,7,17.6ZM5,21V16.75L18.45,3.32a2,2,0,0,1,2.83,0l1.4,1.43a1.91,1.91,0,0,1,.58,1.4,1.91,1.91,0,0,1-.58,1.4L9.25,21ZM18.45,9,17,7.55Zm-12,3A5.31,5.31,0,0,0,4.9,8.1,5.31,5.31,0,0,0,1,6.5,5.31,5.31,0,0,0,4.9,4.9,5.31,5.31,0,0,0,6.5,1,5.31,5.31,0,0,0,8.1,4.9,5.31,5.31,0,0,0,12,6.5,5.46,5.46,0,0,0,6.5,12Z\"/>\n",
              "  </svg>\n",
              "    </button>\n",
              "    <script>\n",
              "      (() => {\n",
              "      const buttonEl =\n",
              "        document.querySelector('#id_03fc7af5-9b8f-4548-8bb2-aa765c7c11e9 button.colab-df-generate');\n",
              "      buttonEl.style.display =\n",
              "        google.colab.kernel.accessAllowed ? 'block' : 'none';\n",
              "\n",
              "      buttonEl.onclick = () => {\n",
              "        google.colab.notebook.generateWithVariable('descriptive');\n",
              "      }\n",
              "      })();\n",
              "    </script>\n",
              "  </div>\n",
              "\n",
              "    </div>\n",
              "  </div>\n"
            ],
            "application/vnd.google.colaboratory.intrinsic+json": {
              "type": "dataframe",
              "variable_name": "descriptive",
              "summary": "{\n  \"name\": \"descriptive\",\n  \"rows\": 8,\n  \"fields\": [\n    {\n      \"column\": \"Kevin\",\n      \"properties\": {\n        \"dtype\": \"number\",\n        \"std\": 25.36810722872573,\n        \"min\": 3.2930904093942583,\n        \"max\": 67.0,\n        \"num_unique_values\": 7,\n        \"samples\": [\n          10.0,\n          60.8,\n          62.75\n        ],\n        \"semantic_type\": \"\",\n        \"description\": \"\"\n      }\n    },\n    {\n      \"column\": \"Marina\",\n      \"properties\": {\n        \"dtype\": \"number\",\n        \"std\": 24.323058373244034,\n        \"min\": 5.082650227325635,\n        \"max\": 65.0,\n        \"num_unique_values\": 8,\n        \"samples\": [\n          59.5,\n          61.0,\n          10.0\n        ],\n        \"semantic_type\": \"\",\n        \"description\": \"\"\n      }\n    },\n    {\n      \"column\": \"Alvaro\",\n      \"properties\": {\n        \"dtype\": \"number\",\n        \"std\": 23.675401911676776,\n        \"min\": 5.370702416299421,\n        \"max\": 64.0,\n        \"num_unique_values\": 8,\n        \"samples\": [\n          57.8,\n          59.0,\n          10.0\n        ],\n        \"semantic_type\": \"\",\n        \"description\": \"\"\n      }\n    },\n    {\n      \"column\": \"Roberto\",\n      \"properties\": {\n        \"dtype\": \"number\",\n        \"std\": 24.924868261603777,\n        \"min\": 6.0699624747146865,\n        \"max\": 67.0,\n        \"num_unique_values\": 8,\n        \"samples\": [\n          60.8,\n          63.0,\n          10.0\n        ],\n        \"semantic_type\": \"\",\n        \"description\": \"\"\n      }\n    },\n    {\n      \"column\": \"Godo\",\n      \"properties\": {\n        \"dtype\": \"number\",\n        \"std\": 24.761987190097432,\n        \"min\": 4.527692569068709,\n        \"max\": 68.0,\n        \"num_unique_values\": 8,\n        \"samples\": [\n          59.5,\n          60.0,\n          10.0\n        ],\n        \"semantic_type\": \"\",\n        \"description\": \"\"\n      }\n    },\n    {\n      \"column\": \"Jaume\",\n      \"properties\": {\n        \"dtype\": \"number\",\n        \"std\": 25.687692296518122,\n        \"min\": 2.330951164939612,\n        \"max\": 66.0,\n        \"num_unique_values\": 8,\n        \"samples\": [\n          61.1,\n          61.0,\n          10.0\n        ],\n        \"semantic_type\": \"\",\n        \"description\": \"\"\n      }\n    },\n    {\n      \"column\": \"Marifer\",\n      \"properties\": {\n        \"dtype\": \"number\",\n        \"std\": 23.77726729821143,\n        \"min\": 4.433458644845529,\n        \"max\": 62.0,\n        \"num_unique_values\": 8,\n        \"samples\": [\n          57.9,\n          59.5,\n          10.0\n        ],\n        \"semantic_type\": \"\",\n        \"description\": \"\"\n      }\n    },\n    {\n      \"column\": \"Ceci\",\n      \"properties\": {\n        \"dtype\": \"number\",\n        \"std\": 24.981475629286482,\n        \"min\": 4.857983120596447,\n        \"max\": 68.0,\n        \"num_unique_values\": 8,\n        \"samples\": [\n          60.6,\n          60.5,\n          10.0\n        ],\n        \"semantic_type\": \"\",\n        \"description\": \"\"\n      }\n    }\n  ]\n}"
            }
          },
          "metadata": {},
          "execution_count": 88
        }
      ]
    },
    {
      "cell_type": "code",
      "source": [
        "descriptive.iloc[7].max()"
      ],
      "metadata": {
        "colab": {
          "base_uri": "https://localhost:8080/"
        },
        "id": "tvirZBQdfQBK",
        "outputId": "4fb2a4fc-3172-4ce5-b7ef-395c90d0548f"
      },
      "execution_count": null,
      "outputs": [
        {
          "output_type": "execute_result",
          "data": {
            "text/plain": [
              "68.0"
            ]
          },
          "metadata": {},
          "execution_count": 89
        }
      ]
    },
    {
      "cell_type": "code",
      "source": [],
      "metadata": {
        "id": "V3dY99jkgg6Y"
      },
      "execution_count": null,
      "outputs": []
    }
  ]
}